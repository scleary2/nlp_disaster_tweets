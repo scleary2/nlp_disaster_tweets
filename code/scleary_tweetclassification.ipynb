{
 "cells": [
  {
   "cell_type": "code",
   "execution_count": 1,
   "metadata": {},
   "outputs": [],
   "source": [
    "import pandas as pd\n",
    "import numpy as np\n",
    "import matplotlib.pyplot as plt\n",
    "import tensorflow as tf\n",
    "from tensorflow import keras\n",
    "import re\n",
    "\n",
    "from sklearn.model_selection import train_test_split\n",
    "from sklearn.linear_model import LogisticRegression\n",
    "from sklearn.naive_bayes import MultinomialNB\n",
    "from sklearn.svm import SVC\n",
    "from sklearn.feature_extraction.text import TfidfVectorizer, CountVectorizer\n",
    "from sklearn.pipeline import make_pipeline\n",
    "from sklearn.ensemble import GradientBoostingClassifier\n",
    "from sklearn.metrics import classification_report, f1_score, plot_confusion_matrix\n",
    "from sklearn.model_selection import GridSearchCV\n",
    "from sklearn.ensemble import VotingClassifier\n",
    "import pickle"
   ]
  },
  {
   "cell_type": "code",
   "execution_count": 2,
   "metadata": {},
   "outputs": [],
   "source": [
    "import sklearn\n",
    "sklearn.set_config(display='diagram')"
   ]
  },
  {
   "cell_type": "code",
   "execution_count": null,
   "metadata": {},
   "outputs": [],
   "source": []
  },
  {
   "cell_type": "code",
   "execution_count": 3,
   "metadata": {},
   "outputs": [],
   "source": [
    "# read in all the data\n",
    "\n",
    "train = pd.read_csv('data/train.csv')\n",
    "test = pd.read_csv('data/test.csv')"
   ]
  },
  {
   "cell_type": "code",
   "execution_count": 4,
   "metadata": {},
   "outputs": [
    {
     "name": "stdout",
     "output_type": "stream",
     "text": [
      "Train shape: (7613, 5) \n",
      "Test Shape: (3263, 4)\n"
     ]
    }
   ],
   "source": [
    "print(f\"Train shape: {train.shape}\",f\"\\nTest Shape: {test.shape}\")"
   ]
  },
  {
   "cell_type": "code",
   "execution_count": 5,
   "metadata": {},
   "outputs": [
    {
     "data": {
      "text/plain": [
       "id             0\n",
       "keyword       61\n",
       "location    2533\n",
       "text           0\n",
       "target         0\n",
       "dtype: int64"
      ]
     },
     "execution_count": 5,
     "metadata": {},
     "output_type": "execute_result"
    }
   ],
   "source": [
    "# see if we have any missing values\n",
    "\n",
    "train.isnull().sum()"
   ]
  },
  {
   "cell_type": "markdown",
   "metadata": {},
   "source": [
    "A lot of the location data is missing, to be precise 33% of the training locations are missing. This will be used later to map the tweets geospatially so we will have to do some cleaning."
   ]
  },
  {
   "cell_type": "code",
   "execution_count": 6,
   "metadata": {},
   "outputs": [
    {
     "data": {
      "text/plain": [
       "0.33"
      ]
     },
     "execution_count": 6,
     "metadata": {},
     "output_type": "execute_result"
    }
   ],
   "source": [
    "np.round(train['location'].isnull().sum()/len(train),2)"
   ]
  },
  {
   "cell_type": "code",
   "execution_count": 7,
   "metadata": {},
   "outputs": [],
   "source": [
    "# create a df with both train and test sets\n",
    "full_data = pd.concat([train,test])"
   ]
  },
  {
   "cell_type": "code",
   "execution_count": 8,
   "metadata": {},
   "outputs": [
    {
     "data": {
      "text/plain": [
       "(10876, 5)"
      ]
     },
     "execution_count": 8,
     "metadata": {},
     "output_type": "execute_result"
    }
   ],
   "source": [
    "full_data.shape"
   ]
  },
  {
   "cell_type": "code",
   "execution_count": 9,
   "metadata": {},
   "outputs": [
    {
     "name": "stdout",
     "output_type": "stream",
     "text": [
      "<class 'pandas.core.frame.DataFrame'>\n",
      "Int64Index: 10876 entries, 0 to 3262\n",
      "Data columns (total 5 columns):\n",
      " #   Column    Non-Null Count  Dtype  \n",
      "---  ------    --------------  -----  \n",
      " 0   id        10876 non-null  int64  \n",
      " 1   keyword   10789 non-null  object \n",
      " 2   location  7238 non-null   object \n",
      " 3   text      10876 non-null  object \n",
      " 4   target    7613 non-null   float64\n",
      "dtypes: float64(1), int64(1), object(3)\n",
      "memory usage: 509.8+ KB\n"
     ]
    }
   ],
   "source": [
    "full_data.info()"
   ]
  },
  {
   "cell_type": "code",
   "execution_count": 10,
   "metadata": {
    "collapsed": true,
    "jupyter": {
     "outputs_hidden": true
    }
   },
   "outputs": [
    {
     "data": {
      "text/plain": [
       "[None,\n",
       " None,\n",
       " None,\n",
       " None,\n",
       " None,\n",
       " None,\n",
       " None,\n",
       " None,\n",
       " None,\n",
       " None,\n",
       " None,\n",
       " None,\n",
       " None,\n",
       " None,\n",
       " None,\n",
       " None,\n",
       " None,\n",
       " None,\n",
       " None,\n",
       " None,\n",
       " None,\n",
       " None,\n",
       " None,\n",
       " None,\n",
       " None,\n",
       " None,\n",
       " None,\n",
       " None,\n",
       " None,\n",
       " None,\n",
       " None,\n",
       " <re.Match object; span=(33, 55), match='http://t.co/lHYXEOHY6C'>,\n",
       " <re.Match object; span=(45, 67), match='http://t.co/YAo1e0xngw'>,\n",
       " <re.Match object; span=(60, 82), match='http://t.co/2nndBGwyEi'>,\n",
       " None,\n",
       " <re.Match object; span=(54, 76), match='http://t.co/qqsmshaJ3N'>,\n",
       " None,\n",
       " <re.Match object; span=(33, 55), match='http://t.co/3ImaomknnA'>,\n",
       " <re.Match object; span=(118, 140), match='http://t.co/wDUEaj8Q4J'>,\n",
       " None,\n",
       " <re.Match object; span=(17, 39), match='http://t.co/rOI2NSmEJJ'>,\n",
       " None,\n",
       " None,\n",
       " None,\n",
       " <re.Match object; span=(70, 92), match='http://t.co/o9qknbfOFX'>,\n",
       " <re.Match object; span=(74, 96), match='http://t.co/TIyUliF5c6'>,\n",
       " <re.Match object; span=(75, 97), match='http://t.co/vl5TBR3wbr'>,\n",
       " None,\n",
       " <re.Match object; span=(17, 39), match='http://t.co/rOI2NSmEJJ'>,\n",
       " None,\n",
       " <re.Match object; span=(51, 73), match='http://t.co/gWNRhMSO8k'>,\n",
       " <re.Match object; span=(53, 75), match='http://t.co/eV1ahOUCZA'>,\n",
       " <re.Match object; span=(89, 111), match='http://t.co/vplR5Hka2u'>,\n",
       " <re.Match object; span=(73, 95), match='http://t.co/pcXarbH9An'>,\n",
       " <re.Match object; span=(107, 130), match=\"http://t.co/uc4j4jHvGR'\">,\n",
       " <re.Match object; span=(113, 135), match='http://t.co/4IzFdYC3cg'>,\n",
       " <re.Match object; span=(75, 97), match='http://t.co/8kscqKfKkF'>,\n",
       " <re.Match object; span=(101, 124), match='https://t.co/cYoMPZ1A0Z'>,\n",
       " None,\n",
       " <re.Match object; span=(76, 98), match='http://t.co/iCSjGZ9tE1'>,\n",
       " None,\n",
       " <re.Match object; span=(113, 135), match='http://t.co/9FxPiXQuJt'>,\n",
       " <re.Match object; span=(75, 98), match='https://t.co/7MLMsUzV1Z'>,\n",
       " None,\n",
       " <re.Match object; span=(52, 74), match='http://t.co/Av2JSjfFtc'>,\n",
       " <re.Match object; span=(54, 76), match='http://t.co/rwzbFVNXER'>,\n",
       " None,\n",
       " None,\n",
       " <re.Match object; span=(75, 98), match='https://t.co/0GHk693EgJ'>,\n",
       " <re.Match object; span=(101, 123), match='http://t.co/pmlOhZuRWR'>,\n",
       " <re.Match object; span=(0, 22), match='http://t.co/GKYe6gjTk5'>,\n",
       " <re.Match object; span=(72, 95), match='https://t.co/k4zoMOF319'>,\n",
       " <re.Match object; span=(117, 139), match='http://t.co/YbJezKuRW1'>,\n",
       " None,\n",
       " None,\n",
       " <re.Match object; span=(68, 90), match='http://t.co/7s9Nm1fiCT'>,\n",
       " <re.Match object; span=(44, 67), match='https://t.co/Ysxun5vCeh'>,\n",
       " None,\n",
       " None,\n",
       " None,\n",
       " None,\n",
       " None,\n",
       " None,\n",
       " <re.Match object; span=(47, 69), match='http://t.co/Rs22LJ4qFp'>,\n",
       " <re.Match object; span=(57, 79), match='http://t.co/hylMo0WgFI'>,\n",
       " <re.Match object; span=(114, 136), match='http://t.co/p18lzRlmy6'>,\n",
       " None,\n",
       " None,\n",
       " None,\n",
       " None,\n",
       " <re.Match object; span=(24, 46), match='http://t.co/Oia5fxi4gM'>,\n",
       " None,\n",
       " <re.Match object; span=(71, 93), match='http://t.co/VCkIT6EDEv'>,\n",
       " <re.Match object; span=(57, 79), match='http://t.co/6Otfp31LqW'>,\n",
       " <re.Match object; span=(26, 49), match='https://t.co/bPTmlF4P10'>,\n",
       " None,\n",
       " None,\n",
       " None,\n",
       " None,\n",
       " None,\n",
       " <re.Match object; span=(101, 124), match='https://t.co/gFJfgTodad'>,\n",
       " None,\n",
       " None,\n",
       " None,\n",
       " <re.Match object; span=(32, 54), match='http://t.co/yNXnvVKCDA'>,\n",
       " None,\n",
       " <re.Match object; span=(32, 54), match='http://t.co/vAM5POdGyw'>,\n",
       " None,\n",
       " None,\n",
       " None,\n",
       " None,\n",
       " None,\n",
       " None,\n",
       " <re.Match object; span=(11, 34), match='https://t.co/xMWODFMtUI'>,\n",
       " <re.Match object; span=(32, 54), match='http://t.co/M4JDZMGJoW'>,\n",
       " <re.Match object; span=(32, 54), match='http://t.co/vAM5POdGyw'>,\n",
       " <re.Match object; span=(32, 54), match='http://t.co/e14EPzhotH'>,\n",
       " None,\n",
       " <re.Match object; span=(32, 54), match='http://t.co/THyzOMVWU0'>,\n",
       " <re.Match object; span=(32, 54), match='http://t.co/THyzOMVWU0'>,\n",
       " <re.Match object; span=(117, 139), match='http://t.co/TBm9FQb8cW'>,\n",
       " <re.Match object; span=(101, 123), match='http://t.co/WZTz4hgMVq'>,\n",
       " None,\n",
       " <re.Match object; span=(50, 72), match='http://t.co/vVE3UsesGf'>,\n",
       " <re.Match object; span=(93, 115), match='http://t.co/f6ntUc734Z'>,\n",
       " None,\n",
       " None,\n",
       " <re.Match object; span=(87, 110), match='https://t.co/UjK0e5GBcC'>,\n",
       " None,\n",
       " None,\n",
       " None,\n",
       " <re.Match object; span=(11, 34), match='https://t.co/jV8ppKhJY7'>,\n",
       " None,\n",
       " None,\n",
       " None,\n",
       " None,\n",
       " <re.Match object; span=(108, 130), match='http://t.co/YVVPznZmXg'>,\n",
       " <re.Match object; span=(114, 136), match='http://t.co/6CZ3bOhRd4'>,\n",
       " None,\n",
       " <re.Match object; span=(114, 136), match='http://t.co/bKpFpOGySI'>,\n",
       " None,\n",
       " None,\n",
       " <re.Match object; span=(40, 62), match='http://t.co/TYJxrFd3St'>,\n",
       " <re.Match object; span=(62, 84), match='http://t.co/i7kZtevb2v'>,\n",
       " None,\n",
       " <re.Match object; span=(75, 97), match='http://t.co/p64xRVgJIk'>,\n",
       " <re.Match object; span=(74, 96), match='http://t.co/LsMx2vwr3J'>,\n",
       " None,\n",
       " None,\n",
       " None,\n",
       " None,\n",
       " <re.Match object; span=(109, 131), match='http://t.co/TagZbcXFj0'>,\n",
       " <re.Match object; span=(103, 126), match='https://t.co/cezhq7CzLl'>,\n",
       " <re.Match object; span=(65, 87), match='http://t.co/wq3wJsgPHL'>,\n",
       " <re.Match object; span=(61, 83), match='http://t.co/TfcdRONRA6'>,\n",
       " None,\n",
       " <re.Match object; span=(42, 65), match='https://t.co/kQ9aE6AP2B'>,\n",
       " <re.Match object; span=(58, 80), match='http://t.co/gibyQHhKpk'>,\n",
       " <re.Match object; span=(114, 136), match='http://t.co/M9IG3WQ8Lq'>,\n",
       " <re.Match object; span=(114, 136), match='http://t.co/v4SMAESLK5'>,\n",
       " <re.Match object; span=(107, 129), match='http://t.co/6fFyLAjWpS'>,\n",
       " None,\n",
       " <re.Match object; span=(53, 75), match='http://t.co/xDxDPrcPnS'>,\n",
       " <re.Match object; span=(90, 112), match='http://t.co/KXxnSZp6nk'>,\n",
       " None,\n",
       " None,\n",
       " None,\n",
       " None,\n",
       " <re.Match object; span=(64, 87), match='https://t.co/ZhJlfLBHZL'>,\n",
       " <re.Match object; span=(39, 62), match='https://t.co/iECc1JDOub'>,\n",
       " <re.Match object; span=(112, 134), match='http://t.co/kz35rGngJF'>,\n",
       " None,\n",
       " <re.Match object; span=(0, 22), match='http://t.co/AY6zzcUpnz'>,\n",
       " <re.Match object; span=(81, 103), match='http://t.co/9pFEaQeSki'>,\n",
       " <re.Match object; span=(75, 97), match='http://t.co/mDnUGVuBwN'>,\n",
       " <re.Match object; span=(63, 85), match='http://t.co/Mj2jQ2pSv6'>,\n",
       " None,\n",
       " <re.Match object; span=(65, 87), match='http://t.co/Xum8YLcb4Q'>,\n",
       " <re.Match object; span=(81, 103), match='http://t.co/4evTTqPEia'>,\n",
       " <re.Match object; span=(67, 89), match='http://t.co/HFy5V3sLBB'>,\n",
       " None,\n",
       " None,\n",
       " <re.Match object; span=(71, 93), match='http://t.co/bFeS5tWBzt'>,\n",
       " <re.Match object; span=(0, 22), match='http://t.co/7xGLah10zL'>,\n",
       " None,\n",
       " <re.Match object; span=(61, 83), match='http://t.co/ZSbErqNN9n'>,\n",
       " <re.Match object; span=(81, 103), match='http://t.co/q8IVrzOJZv'>,\n",
       " <re.Match object; span=(51, 73), match='http://t.co/8E7rY8eBMf'>,\n",
       " None,\n",
       " <re.Match object; span=(59, 81), match='http://t.co/4oa6SWlxmR'>,\n",
       " <re.Match object; span=(0, 22), match='http://t.co/FCqmKFfflW'>,\n",
       " <re.Match object; span=(65, 87), match='http://t.co/3bRme6Sn4t'>,\n",
       " <re.Match object; span=(81, 103), match='http://t.co/UJrX9kgawp'>,\n",
       " <re.Match object; span=(81, 103), match='http://t.co/Kp2Lf4AuTe'>,\n",
       " <re.Match object; span=(111, 133), match='http://t.co/hPvOdUD7iP'>,\n",
       " None,\n",
       " <re.Match object; span=(74, 96), match='http://t.co/ShzPyIQok5'>,\n",
       " <re.Match object; span=(0, 22), match='http://t.co/pWwpUm6RBj'>,\n",
       " None,\n",
       " <re.Match object; span=(61, 102), match='http://t.co/MG1lpGr0RM\\x89Û\\x9d@natasha_rideout'>,\n",
       " <re.Match object; span=(74, 97), match='https://t.co/SeK6MQ6NJF'>,\n",
       " <re.Match object; span=(0, 22), match='http://t.co/FueRk0gWui'>,\n",
       " <re.Match object; span=(0, 22), match='http://t.co/X5YEUYLT1X'>,\n",
       " <re.Match object; span=(65, 87), match='http://t.co/TH9YwBbeet'>,\n",
       " <re.Match object; span=(65, 87), match='http://t.co/X2Qsjod40u'>,\n",
       " None,\n",
       " None,\n",
       " <re.Match object; span=(0, 22), match='http://t.co/J8TYT1XRRK'>,\n",
       " None,\n",
       " None,\n",
       " None,\n",
       " None,\n",
       " None,\n",
       " None,\n",
       " <re.Match object; span=(21, 43), match='http://t.co/1xPw292tJe'>,\n",
       " <re.Match object; span=(83, 105), match='http://t.co/e0pI0c54FF'>,\n",
       " None,\n",
       " None,\n",
       " <re.Match object; span=(73, 97), match='http://t.co/tHrhKHOGcUåÊ'>,\n",
       " None,\n",
       " <re.Match object; span=(73, 97), match='http://t.co/C0nKGp6w03åÊ'>,\n",
       " <re.Match object; span=(71, 94), match='https://t.co/IrFCn71sZv'>,\n",
       " None,\n",
       " <re.Match object; span=(102, 125), match='https://t.co/xn09Mx6sxy'>,\n",
       " None,\n",
       " None,\n",
       " None,\n",
       " <re.Match object; span=(90, 112), match='http://t.co/yangEQBUQW'>,\n",
       " None,\n",
       " None,\n",
       " None,\n",
       " None,\n",
       " None,\n",
       " None,\n",
       " None,\n",
       " None,\n",
       " None,\n",
       " None,\n",
       " <re.Match object; span=(73, 97), match='http://t.co/F1BAkpNyn6åÊ'>,\n",
       " <re.Match object; span=(89, 111), match='http://t.co/7rakhP3bWm'>,\n",
       " None,\n",
       " <re.Match object; span=(116, 138), match='http://t.co/4JNo677Zkv'>,\n",
       " None,\n",
       " None,\n",
       " None,\n",
       " <re.Match object; span=(40, 62), match='http://t.co/sPfkE5Kqu4'>,\n",
       " <re.Match object; span=(104, 126), match='http://t.co/6LoJOoROuk'>,\n",
       " None,\n",
       " <re.Match object; span=(42, 64), match='http://t.co/pyehwodWun'>,\n",
       " <re.Match object; span=(50, 72), match='http://t.co/I2hHvIUmTm'>,\n",
       " <re.Match object; span=(104, 127), match='https://t.co/m8MvDSPJp7'>,\n",
       " <re.Match object; span=(104, 127), match='https://t.co/sW1sBua3mN'>,\n",
       " <re.Match object; span=(91, 113), match='http://t.co/3tsSXPHuFE'>,\n",
       " <re.Match object; span=(104, 126), match='http://t.co/KPQk0C4G0M'>,\n",
       " None,\n",
       " <re.Match object; span=(39, 61), match='http://t.co/c1QXJWeQQU'>,\n",
       " None,\n",
       " <re.Match object; span=(125, 148), match='https://t.co/e8dl1lNCVu'>,\n",
       " None,\n",
       " <re.Match object; span=(104, 127), match='https://t.co/MatIJwkzbh'>,\n",
       " None,\n",
       " <re.Match object; span=(125, 148), match='https://t.co/e8dl1lNCVu'>,\n",
       " <re.Match object; span=(121, 144), match='https://t.co/e8dl1lNCVu'>,\n",
       " <re.Match object; span=(118, 140), match='http://t.co/WM5l8PJ2iY'>,\n",
       " <re.Match object; span=(53, 75), match='http://t.co/wVobVVtXKg'>,\n",
       " None,\n",
       " <re.Match object; span=(104, 127), match='https://t.co/x2Wn7O2a3w'>,\n",
       " <re.Match object; span=(50, 72), match='http://t.co/IKUAYUSEqt'>,\n",
       " None,\n",
       " <re.Match object; span=(42, 64), match='http://t.co/pyehwodWun'>,\n",
       " <re.Match object; span=(104, 127), match='https://t.co/0fekgyBY5F'>,\n",
       " <re.Match object; span=(104, 126), match='http://t.co/SB5R7ShcCJ'>,\n",
       " None,\n",
       " None,\n",
       " None,\n",
       " None,\n",
       " None,\n",
       " <re.Match object; span=(86, 108), match='http://t.co/cf9e6TU3g7'>,\n",
       " None,\n",
       " None,\n",
       " None,\n",
       " <re.Match object; span=(92, 115), match='https://t.co/my8q1uWIjn'>,\n",
       " None,\n",
       " None,\n",
       " <re.Match object; span=(114, 136), match='http://t.co/MuL1J9AEUx'>,\n",
       " None,\n",
       " None,\n",
       " <re.Match object; span=(111, 133), match='http://t.co/xIZkjffF29'>,\n",
       " <re.Match object; span=(41, 63), match='http://t.co/u66kYg11ZD'>,\n",
       " None,\n",
       " None,\n",
       " None,\n",
       " None,\n",
       " None,\n",
       " <re.Match object; span=(70, 93), match='https://t.co/fS012trUDG'>,\n",
       " <re.Match object; span=(99, 121), match='http://t.co/TNgYE2FKlv'>,\n",
       " <re.Match object; span=(95, 117), match='http://t.co/xpFmR368uF'>,\n",
       " <re.Match object; span=(62, 84), match='http://t.co/TnGPsHNL87'>,\n",
       " <re.Match object; span=(48, 70), match='http://t.co/hUTHXlkyxy'>,\n",
       " <re.Match object; span=(91, 113), match='http://t.co/oQw8Jx6rTs'>,\n",
       " None,\n",
       " <re.Match object; span=(115, 137), match='http://t.co/v8AfTD9zeZ'>,\n",
       " None,\n",
       " <re.Match object; span=(25, 47), match='http://t.co/ki1yKrs9fi'>,\n",
       " None,\n",
       " None,\n",
       " <re.Match object; span=(38, 61), match='https://t.co/lfKMTZaEkk'>,\n",
       " None,\n",
       " <re.Match object; span=(43, 65), match='http://t.co/qoUXIgdtbZ'>,\n",
       " None,\n",
       " <re.Match object; span=(71, 93), match='http://t.co/ypbVS1IJya'>,\n",
       " None,\n",
       " None,\n",
       " None,\n",
       " None,\n",
       " None,\n",
       " <re.Match object; span=(103, 125), match='http://t.co/qyCw5JJaj1'>,\n",
       " None,\n",
       " None,\n",
       " None,\n",
       " <re.Match object; span=(81, 103), match='http://t.co/a2e6dcsk88'>,\n",
       " <re.Match object; span=(11, 34), match='https://t.co/uCSUDk3q1d'>,\n",
       " None,\n",
       " None,\n",
       " None,\n",
       " <re.Match object; span=(77, 99), match='http://t.co/gBxafy1m1C'>,\n",
       " <re.Match object; span=(89, 111), match='http://t.co/8HGcBXUkz0'>,\n",
       " <re.Match object; span=(109, 131), match='http://t.co/CxDJApzXMP'>,\n",
       " <re.Match object; span=(84, 107), match='https://t.co/hkBxxvd9Iw'>,\n",
       " None,\n",
       " <re.Match object; span=(107, 129), match='http://t.co/VPQTGeQLmA'>,\n",
       " None,\n",
       " None,\n",
       " <re.Match object; span=(59, 81), match='http://t.co/sTfTjCrjEa'>,\n",
       " None,\n",
       " None,\n",
       " None,\n",
       " <re.Match object; span=(86, 109), match='https://t.co/4aRWwRZPsr'>,\n",
       " <re.Match object; span=(41, 64), match='https://t.co/lfKMTZaEkk'>,\n",
       " None,\n",
       " None,\n",
       " <re.Match object; span=(114, 136), match='http://t.co/vHCXTvCINr'>,\n",
       " <re.Match object; span=(90, 112), match='http://t.co/NVfKzv5FEx'>,\n",
       " None,\n",
       " <re.Match object; span=(39, 62), match='https://t.co/4i0Rjc9RQU'>,\n",
       " None,\n",
       " <re.Match object; span=(23, 45), match='http://t.co/nnMQlz91o9'>,\n",
       " <re.Match object; span=(29, 51), match='http://t.co/q2eBlOKeVE'>,\n",
       " <re.Match object; span=(35, 57), match='http://t.co/J6WsePTXgA'>,\n",
       " <re.Match object; span=(26, 48), match='http://t.co/thoYhrHkfJ'>,\n",
       " <re.Match object; span=(26, 48), match='http://t.co/thoYhrHkfJ'>,\n",
       " <re.Match object; span=(29, 51), match='http://t.co/q2eBlOKeVE'>,\n",
       " None,\n",
       " <re.Match object; span=(54, 68), match='https://youtu.'>,\n",
       " <re.Match object; span=(119, 141), match='http://t.co/rDjpor3AZg'>,\n",
       " <re.Match object; span=(85, 107), match='http://t.co/Kgtxnnbj7y'>,\n",
       " None,\n",
       " <re.Match object; span=(28, 50), match='http://t.co/KaCCPk85wf'>,\n",
       " <re.Match object; span=(29, 51), match='http://t.co/q2eBlOKeVE'>,\n",
       " <re.Match object; span=(94, 116), match='http://t.co/hEP9k0XgHb'>,\n",
       " <re.Match object; span=(29, 51), match='http://t.co/q2eBlOKeVE'>,\n",
       " <re.Match object; span=(59, 81), match='http://t.co/yFy3nkkcoH'>,\n",
       " <re.Match object; span=(118, 140), match='http://t.co/WJLJq3yA4g'>,\n",
       " <re.Match object; span=(35, 57), match='http://t.co/qcHV3JqOVK'>,\n",
       " <re.Match object; span=(23, 45), match='http://t.co/nnMQlz91o9'>,\n",
       " <re.Match object; span=(29, 51), match='http://t.co/q2eBlOKeVE'>,\n",
       " None,\n",
       " <re.Match object; span=(29, 51), match='http://t.co/y9WvqKGbBI'>,\n",
       " <re.Match object; span=(116, 138), match='http://t.co/0wbEcdMHQo'>,\n",
       " <re.Match object; span=(92, 114), match='http://t.co/F9j3l2Yjl4'>,\n",
       " <re.Match object; span=(23, 45), match='http://t.co/nnMQlz91o9'>,\n",
       " <re.Match object; span=(25, 47), match='http://t.co/thoYhrHkfJ'>,\n",
       " <re.Match object; span=(23, 45), match='http://t.co/nnMQlz91o9'>,\n",
       " <re.Match object; span=(25, 47), match='http://t.co/thoYhrHkfJ'>,\n",
       " <re.Match object; span=(117, 139), match='http://t.co/vdUKcV7YJy'>,\n",
       " None,\n",
       " <re.Match object; span=(92, 114), match='http://t.co/QUmcE7W2tY'>,\n",
       " <re.Match object; span=(92, 114), match='http://t.co/obfD7e4QcP'>,\n",
       " <re.Match object; span=(29, 51), match='http://t.co/q2eBlOKeVE'>,\n",
       " <re.Match object; span=(29, 51), match='http://t.co/iMHFdaOWRd'>,\n",
       " <re.Match object; span=(72, 94), match='http://t.co/iEksNFSbY7'>,\n",
       " <re.Match object; span=(90, 112), match='http://t.co/Qbs2k01WzK'>,\n",
       " <re.Match object; span=(101, 123), match='http://t.co/bvCKd9pdTi'>,\n",
       " None,\n",
       " <re.Match object; span=(78, 100), match='http://t.co/66oBQmxImb'>,\n",
       " <re.Match object; span=(77, 99), match='http://t.co/xwMs1AWW8m'>,\n",
       " <re.Match object; span=(83, 105), match='http://t.co/eug6zHciun'>,\n",
       " <re.Match object; span=(83, 105), match='http://t.co/KkbXIBlAH7'>,\n",
       " None,\n",
       " <re.Match object; span=(53, 75), match='http://t.co/MYhOHvrHiL'>,\n",
       " <re.Match object; span=(13, 35), match='http://t.co/uAVFRtlfs4'>,\n",
       " <re.Match object; span=(63, 85), match='http://t.co/EJ2GHNAfHY'>,\n",
       " <re.Match object; span=(51, 73), match='http://t.co/WftCrLz32P'>,\n",
       " None,\n",
       " <re.Match object; span=(59, 81), match='http://t.co/okVsImoGic'>,\n",
       " <re.Match object; span=(102, 124), match='http://t.co/m5SbFRrSn7'>,\n",
       " None,\n",
       " <re.Match object; span=(117, 139), match='http://t.co/3GZ5zQQTHe'>,\n",
       " <re.Match object; span=(93, 115), match='http://t.co/ylhAyfaOOu'>,\n",
       " <re.Match object; span=(94, 116), match='http://t.co/Wf8iTK2KVx'>,\n",
       " <re.Match object; span=(53, 75), match='http://t.co/0TSlQjOKvh'>,\n",
       " None,\n",
       " <re.Match object; span=(102, 124), match='http://t.co/5bdrFU1duo'>,\n",
       " <re.Match object; span=(83, 105), match='http://t.co/Q4L7Dg56JM'>,\n",
       " <re.Match object; span=(53, 75), match='http://t.co/2Y9dnP5vtg'>,\n",
       " <re.Match object; span=(53, 75), match='http://t.co/UBFr1URAFc'>,\n",
       " <re.Match object; span=(83, 105), match='http://t.co/GbluHRrlto'>,\n",
       " <re.Match object; span=(53, 75), match='http://t.co/ZPxE3fMYNG'>,\n",
       " <re.Match object; span=(63, 85), match='http://t.co/wnuqQAtTTP'>,\n",
       " <re.Match object; span=(79, 101), match='http://t.co/10mUEY8PXJ'>,\n",
       " <re.Match object; span=(83, 105), match='http://t.co/PrRB4fhXtv'>,\n",
       " <re.Match object; span=(63, 85), match='http://t.co/u1fuWrGK5U'>,\n",
       " None,\n",
       " <re.Match object; span=(58, 80), match='http://t.co/1ElreH1jLJ'>,\n",
       " <re.Match object; span=(42, 64), match='http://t.co/WR48AQTUm7'>,\n",
       " None,\n",
       " <re.Match object; span=(45, 67), match='http://t.co/PzotPDGAkI'>,\n",
       " <re.Match object; span=(63, 85), match='http://t.co/mmGsyAHDzb'>,\n",
       " None,\n",
       " None,\n",
       " <re.Match object; span=(76, 98), match='http://t.co/wpDvT31sne'>,\n",
       " None,\n",
       " None,\n",
       " <re.Match object; span=(94, 116), match='http://t.co/kxpLYoM9RR'>,\n",
       " <re.Match object; span=(79, 102), match='http://t.co/sqgogJ3S5r.'>,\n",
       " <re.Match object; span=(94, 116), match='http://t.co/JP2QlrunjJ'>,\n",
       " None,\n",
       " <re.Match object; span=(58, 80), match='http://t.co/1he4UfaWZm'>,\n",
       " <re.Match object; span=(17, 39), match='http://t.co/28t3NWHdKy'>,\n",
       " None,\n",
       " <re.Match object; span=(114, 136), match='http://t.co/r1Xwdnvb0g'>,\n",
       " None,\n",
       " <re.Match object; span=(76, 98), match='http://t.co/HDKd9J2lw0'>,\n",
       " None,\n",
       " <re.Match object; span=(58, 80), match='http://t.co/ojuHfkHVb2'>,\n",
       " None,\n",
       " None,\n",
       " <re.Match object; span=(67, 89), match='http://t.co/Nr7usT3uh8'>,\n",
       " <re.Match object; span=(42, 64), match='http://t.co/ulr6MyklnH'>,\n",
       " None,\n",
       " None,\n",
       " None,\n",
       " None,\n",
       " <re.Match object; span=(114, 136), match='http://t.co/jCFEhrHLq8'>,\n",
       " <re.Match object; span=(98, 120), match='http://t.co/2Z2HTDjQZD'>,\n",
       " <re.Match object; span=(67, 89), match='http://t.co/QxH1H61cwD'>,\n",
       " <re.Match object; span=(84, 107), match='https://t.co/WWu070Tjej'>,\n",
       " <re.Match object; span=(78, 100), match='http://t.co/wMHy47xkiL'>,\n",
       " <re.Match object; span=(0, 22), match='http://t.co/pTKrXtZjtV'>,\n",
       " None,\n",
       " None,\n",
       " None,\n",
       " <re.Match object; span=(68, 90), match='http://t.co/Y8IcF89H6w'>,\n",
       " None,\n",
       " <re.Match object; span=(43, 65), match='http://t.co/nY3l1oRZQb'>,\n",
       " <re.Match object; span=(64, 86), match='http://t.co/mfKqyxd8XG'>,\n",
       " <re.Match object; span=(92, 115), match='https://t.co/jB038rdFAK'>,\n",
       " <re.Match object; span=(58, 80), match='http://t.co/3huhZxliiG'>,\n",
       " <re.Match object; span=(68, 90), match='http://t.co/Rptouz2iJs'>,\n",
       " <re.Match object; span=(80, 102), match='http://t.co/qi8QDw5dFG'>,\n",
       " <re.Match object; span=(87, 109), match='http://t.co/H6PM1W7elL'>,\n",
       " <re.Match object; span=(27, 49), match='http://t.co/8eIJDXApnp'>,\n",
       " <re.Match object; span=(55, 77), match='http://t.co/3GVUS8NPpy'>,\n",
       " None,\n",
       " None,\n",
       " None,\n",
       " <re.Match object; span=(70, 92), match='http://t.co/dCDeCFv934'>,\n",
       " <re.Match object; span=(100, 122), match='http://t.co/rzSUlzMOkX'>,\n",
       " <re.Match object; span=(90, 112), match='http://t.co/zdCvlYq6qK'>,\n",
       " None,\n",
       " <re.Match object; span=(61, 83), match='http://t.co/OnPnBx0ZEx'>,\n",
       " <re.Match object; span=(121, 144), match='https://t.co/qioPbTIUVu'>,\n",
       " <re.Match object; span=(119, 141), match='http://t.co/MqP4hF9GpO'>,\n",
       " None,\n",
       " <re.Match object; span=(79, 101), match='http://t.co/OyoGII97yH'>,\n",
       " None,\n",
       " None,\n",
       " <re.Match object; span=(55, 77), match='http://t.co/YdgMGBrYL2'>,\n",
       " <re.Match object; span=(57, 79), match='http://t.co/7LhKJz0IVO'>,\n",
       " None,\n",
       " <re.Match object; span=(90, 112), match='http://t.co/n3yJb8TcPm'>,\n",
       " None,\n",
       " None,\n",
       " <re.Match object; span=(114, 136), match='http://t.co/2h0dPMv2Ef'>,\n",
       " None,\n",
       " None,\n",
       " <re.Match object; span=(24, 47), match='https://t.co/CvkQiGr1AZ'>,\n",
       " <re.Match object; span=(99, 122), match='https://t.co/chkP0GfyNJ'>,\n",
       " None,\n",
       " None,\n",
       " <re.Match object; span=(100, 122), match='http://t.co/5qYcZyWKgG'>,\n",
       " <re.Match object; span=(100, 122), match='http://t.co/U0kEOe5fMt'>,\n",
       " <re.Match object; span=(100, 122), match='http://t.co/f5MiuhqaBy'>,\n",
       " <re.Match object; span=(102, 124), match='http://t.co/f4LhfmEhzh'>,\n",
       " None,\n",
       " <re.Match object; span=(100, 122), match='http://t.co/wGWiQmICL1'>,\n",
       " None,\n",
       " <re.Match object; span=(20, 42), match='http://t.co/91jvYCxXVi'>,\n",
       " None,\n",
       " <re.Match object; span=(100, 122), match='http://t.co/NhxSe3RTHX'>,\n",
       " <re.Match object; span=(100, 122), match='http://t.co/LHBZHWq4B9'>,\n",
       " None,\n",
       " <re.Match object; span=(81, 103), match='http://t.co/7nAgdSAdWP'>,\n",
       " None,\n",
       " <re.Match object; span=(100, 122), match='http://t.co/mXZ7yX8ld1'>,\n",
       " <re.Match object; span=(100, 122), match='http://t.co/e4YDbM4Dx6'>,\n",
       " <re.Match object; span=(100, 122), match='http://t.co/T1aa5Ov7Eg'>,\n",
       " <re.Match object; span=(74, 96), match='http://t.co/DMLJ1aGoTw'>,\n",
       " <re.Match object; span=(100, 122), match='http://t.co/EMDJNNltP0'>,\n",
       " None,\n",
       " <re.Match object; span=(100, 122), match='http://t.co/a6wmbnR51S'>,\n",
       " <re.Match object; span=(100, 122), match='http://t.co/ETg0prBP4G'>,\n",
       " <re.Match object; span=(100, 122), match='http://t.co/yUBKHf9iyh'>,\n",
       " None,\n",
       " <re.Match object; span=(100, 122), match='http://t.co/e4wK8Uri8A'>,\n",
       " None,\n",
       " <re.Match object; span=(100, 122), match='http://t.co/1pDJoq4Jc1'>,\n",
       " <re.Match object; span=(73, 95), match='http://t.co/9v1RVCOMH2'>,\n",
       " <re.Match object; span=(25, 47), match='http://t.co/TNXQuOr1wb'>,\n",
       " None,\n",
       " <re.Match object; span=(90, 112), match='http://t.co/ZNSvsTGwx3'>,\n",
       " <re.Match object; span=(80, 102), match='http://t.co/kBtZZZG2Tp'>,\n",
       " <re.Match object; span=(37, 60), match='https://t.co/rBrw8pWiPJ'>,\n",
       " <re.Match object; span=(108, 131), match='https://t.co/rfvjh58eF2'>,\n",
       " <re.Match object; span=(81, 103), match='http://t.co/uHfM1r3Tq5'>,\n",
       " <re.Match object; span=(95, 117), match='http://t.co/yDJpOpH1DW'>,\n",
       " <re.Match object; span=(73, 95), match='http://t.co/RaqUpzFkJY'>,\n",
       " <re.Match object; span=(77, 99), match='http://t.co/5G8qA6mPxm'>,\n",
       " None,\n",
       " None,\n",
       " <re.Match object; span=(108, 131), match='https://t.co/WdvxjsQwic'>,\n",
       " <re.Match object; span=(72, 94), match='http://t.co/iCrZi5TqC5'>,\n",
       " <re.Match object; span=(99, 121), match='http://t.co/VBSwhz4s2V'>,\n",
       " None,\n",
       " <re.Match object; span=(22, 44), match='http://t.co/RqIPGQslT6'>,\n",
       " <re.Match object; span=(63, 85), match='http://t.co/2bk7laGMa9'>,\n",
       " <re.Match object; span=(92, 114), match='http://t.co/e4QonKzndZ'>,\n",
       " <re.Match object; span=(84, 106), match='http://t.co/4VIRXkgMpC'>,\n",
       " <re.Match object; span=(106, 128), match='http://t.co/gPGTAfMKt0'>,\n",
       " <re.Match object; span=(51, 73), match='http://t.co/pBLvPM6C27'>,\n",
       " <re.Match object; span=(26, 49), match='https://t.co/2AZxdLCXgA'>,\n",
       " None,\n",
       " <re.Match object; span=(59, 81), match='http://t.co/nruzhR5XQu'>,\n",
       " <re.Match object; span=(86, 109), match='https://t.co/3W6seA9tuv'>,\n",
       " <re.Match object; span=(24, 46), match='http://t.co/48h3tLvLXr'>,\n",
       " <re.Match object; span=(94, 116), match='http://t.co/OBkY8Pc89H'>,\n",
       " None,\n",
       " <re.Match object; span=(81, 103), match='http://t.co/xFguklrlTf'>,\n",
       " <re.Match object; span=(81, 103), match='http://t.co/Ot0tFFpBYB'>,\n",
       " <re.Match object; span=(55, 77), match='http://t.co/jDDNhmrmMJ'>,\n",
       " <re.Match object; span=(39, 61), match='http://t.co/wedWyn9kfS'>,\n",
       " <re.Match object; span=(110, 133), match='https://t.co/7SPyDy1csc'>,\n",
       " <re.Match object; span=(73, 96), match='https://t.co/MctJnZX4H8'>,\n",
       " <re.Match object; span=(116, 138), match='http://t.co/FJ73gDvg2n'>,\n",
       " <re.Match object; span=(61, 84), match='https://t.co/B0ZJWgmaIW'>,\n",
       " None,\n",
       " None,\n",
       " <re.Match object; span=(116, 138), match='http://t.co/ZYRZX6dfki'>,\n",
       " None,\n",
       " None,\n",
       " None,\n",
       " <re.Match object; span=(66, 88), match='http://t.co/w9P3hAuHEi'>,\n",
       " <re.Match object; span=(56, 78), match='http://t.co/qrHJEI7gRq'>,\n",
       " <re.Match object; span=(83, 105), match='http://t.co/yxvMifLvc4'>,\n",
       " <re.Match object; span=(25, 47), match='http://t.co/9Vw0uQQi1y'>,\n",
       " None,\n",
       " None,\n",
       " None,\n",
       " <re.Match object; span=(21, 44), match='https://t.co/ofECs6tcvC'>,\n",
       " <re.Match object; span=(81, 103), match='http://t.co/yI30ZgiZsW'>,\n",
       " None,\n",
       " <re.Match object; span=(93, 115), match='http://t.co/T4fvVnRPc5'>,\n",
       " None,\n",
       " <re.Match object; span=(82, 104), match='http://t.co/xteZGjfs8A'>,\n",
       " <re.Match object; span=(47, 69), match='http://t.co/qfjjDxes7G'>,\n",
       " <re.Match object; span=(79, 101), match='http://t.co/iaDlSlqdpd'>,\n",
       " <re.Match object; span=(76, 98), match='http://t.co/HQsU8LWltH'>,\n",
       " <re.Match object; span=(72, 94), match='http://t.co/sHzsYmaUSi'>,\n",
       " <re.Match object; span=(82, 104), match='http://t.co/lHpgxc4b8J'>,\n",
       " <re.Match object; span=(93, 115), match='http://t.co/cGdj3dRso9'>,\n",
       " <re.Match object; span=(109, 131), match='http://t.co/K0Y7xFxmXA'>,\n",
       " <re.Match object; span=(114, 136), match='http://t.co/y3dM9uLqxG'>,\n",
       " <re.Match object; span=(56, 78), match='http://t.co/CHORr2XOVp'>,\n",
       " <re.Match object; span=(107, 129), match='http://t.co/fZujg7sXJg'>,\n",
       " <re.Match object; span=(76, 98), match='http://t.co/qZQc8WWwcN'>,\n",
       " None,\n",
       " <re.Match object; span=(115, 137), match='http://t.co/cM8UnI1mRG'>,\n",
       " <re.Match object; span=(84, 106), match='http://t.co/wvExJjRG6E'>,\n",
       " <re.Match object; span=(76, 98), match='http://t.co/P96rgBbaYL'>,\n",
       " None,\n",
       " <re.Match object; span=(93, 115), match='http://t.co/9vIibxgjAV'>,\n",
       " <re.Match object; span=(84, 106), match='http://t.co/5zDbTktwW7'>,\n",
       " <re.Match object; span=(76, 98), match='http://t.co/pWAMG8oZj4'>,\n",
       " <re.Match object; span=(118, 140), match='http://t.co/2kdq56xTWs'>,\n",
       " <re.Match object; span=(85, 107), match='http://t.co/YLLQJljiIQ'>,\n",
       " <re.Match object; span=(85, 107), match='http://t.co/zAHNEwJrI8'>,\n",
       " <re.Match object; span=(116, 138), match='http://t.co/Ba2rRXUgsG'>,\n",
       " <re.Match object; span=(47, 69), match='http://t.co/SHrhkfj1bC'>,\n",
       " <re.Match object; span=(69, 91), match='http://t.co/R33nCvjovC'>,\n",
       " <re.Match object; span=(118, 140), match='http://t.co/5uKOHk7SoB'>,\n",
       " <re.Match object; span=(14, 36), match='http://t.co/gAN14PW9TG'>,\n",
       " <re.Match object; span=(76, 98), match='http://t.co/c0p3SEsqWm'>,\n",
       " <re.Match object; span=(51, 73), match='http://t.co/tkeOAeDQKq'>,\n",
       " <re.Match object; span=(76, 98), match='http://t.co/MqbYrAvK6h'>,\n",
       " <re.Match object; span=(77, 99), match='http://t.co/S4SiCMYRmH'>,\n",
       " <re.Match object; span=(62, 84), match='http://t.co/ZQqJrQsbJm'>,\n",
       " <re.Match object; span=(76, 98), match='http://t.co/hrqCJdovJZ'>,\n",
       " <re.Match object; span=(118, 140), match='http://t.co/xFHh2XF9Ga'>,\n",
       " <re.Match object; span=(76, 98), match='http://t.co/4M5UHeyfDo'>,\n",
       " <re.Match object; span=(118, 140), match='http://t.co/RUjV4VPnBV'>,\n",
       " None,\n",
       " <re.Match object; span=(25, 47), match='http://t.co/XO2ZbPBJB3'>,\n",
       " <re.Match object; span=(104, 126), match='http://t.co/bCLqpWFDOd'>,\n",
       " <re.Match object; span=(119, 141), match='http://t.co/KvpbybglSR'>,\n",
       " None,\n",
       " None,\n",
       " <re.Match object; span=(33, 55), match='http://t.co/W2IXT1k0AB'>,\n",
       " <re.Match object; span=(110, 132), match='http://t.co/cvhYGwcBZv'>,\n",
       " None,\n",
       " <re.Match object; span=(79, 101), match='http://t.co/6PAGJqfbzK'>,\n",
       " None,\n",
       " None,\n",
       " <re.Match object; span=(101, 123), match='http://t.co/NWV2RvGHf3'>,\n",
       " None,\n",
       " None,\n",
       " None,\n",
       " <re.Match object; span=(114, 136), match='http://t.co/SuMe5prO0F'>,\n",
       " <re.Match object; span=(114, 136), match='http://t.co/Qmo1TxxDkj'>,\n",
       " None,\n",
       " None,\n",
       " None,\n",
       " None,\n",
       " None,\n",
       " None,\n",
       " None,\n",
       " None,\n",
       " None,\n",
       " None,\n",
       " <re.Match object; span=(27, 49), match='http://t.co/q6oxzq45VE'>,\n",
       " <re.Match object; span=(91, 113), match='http://t.co/UotPNSQpz5'>,\n",
       " None,\n",
       " None,\n",
       " <re.Match object; span=(70, 92), match='http://t.co/3xn1soh4Bb'>,\n",
       " None,\n",
       " <re.Match object; span=(16, 38), match='http://t.co/UdKeSJ01mL'>,\n",
       " None,\n",
       " <re.Match object; span=(98, 120), match='http://t.co/nF46PAYTvw'>,\n",
       " None,\n",
       " <re.Match object; span=(115, 137), match='http://t.co/P6GqmCTgLj'>,\n",
       " None,\n",
       " None,\n",
       " None,\n",
       " None,\n",
       " <re.Match object; span=(79, 101), match='http://t.co/E0UUsnpsq5'>,\n",
       " <re.Match object; span=(66, 88), match='http://t.co/mIM8hH2ce6'>,\n",
       " None,\n",
       " None,\n",
       " <re.Match object; span=(39, 61), match='http://t.co/PdEHd1tCpk'>,\n",
       " <re.Match object; span=(118, 140), match='http://t.co/UWItVBsbnC'>,\n",
       " None,\n",
       " None,\n",
       " <re.Match object; span=(103, 125), match='http://t.co/aE9cPIexAK'>,\n",
       " <re.Match object; span=(53, 75), match='http://t.co/CyXbrZXWq4'>,\n",
       " None,\n",
       " None,\n",
       " <re.Match object; span=(96, 118), match='http://t.co/sk3l74FLzZ'>,\n",
       " <re.Match object; span=(96, 118), match='http://t.co/nbizaTlsmV'>,\n",
       " None,\n",
       " <re.Match object; span=(25, 47), match='http://t.co/N95IGskd3p'>,\n",
       " <re.Match object; span=(93, 115), match='http://t.co/MsdizftZ2g'>,\n",
       " <re.Match object; span=(78, 100), match='http://t.co/Q8rEoEVluE'>,\n",
       " None,\n",
       " <re.Match object; span=(54, 76), match='http://t.co/uUNGRqoUgn'>,\n",
       " None,\n",
       " <re.Match object; span=(45, 68), match='http://t.co/QMS8RRESsd)'>,\n",
       " None,\n",
       " None,\n",
       " <re.Match object; span=(0, 23), match='https://t.co/WKv8VqVkT6'>,\n",
       " <re.Match object; span=(44, 66), match='http://t.co/9rFo9GY3nE'>,\n",
       " <re.Match object; span=(45, 67), match='http://t.co/EMvOhm9m6j'>,\n",
       " None,\n",
       " <re.Match object; span=(113, 135), match='http://t.co/NR1I8Qnao1'>,\n",
       " <re.Match object; span=(94, 116), match='http://t.co/IU9baFDXeY'>,\n",
       " <re.Match object; span=(94, 116), match='http://t.co/m96KbQwiOr'>,\n",
       " None,\n",
       " None,\n",
       " <re.Match object; span=(64, 86), match='http://t.co/6VJA8R4YXA'>,\n",
       " <re.Match object; span=(61, 83), match='http://t.co/g7S34Sw2aM'>,\n",
       " None,\n",
       " None,\n",
       " None,\n",
       " None,\n",
       " <re.Match object; span=(105, 127), match='http://t.co/ixREhM05yq'>,\n",
       " None,\n",
       " None,\n",
       " None,\n",
       " <re.Match object; span=(99, 121), match='http://t.co/C8b6DdiQIg'>,\n",
       " <re.Match object; span=(100, 123), match='https://t.co/OSUoIVNiGO'>,\n",
       " None,\n",
       " None,\n",
       " None,\n",
       " None,\n",
       " None,\n",
       " <re.Match object; span=(74, 96), match='http://t.co/N6AhgfMUDt'>,\n",
       " None,\n",
       " None,\n",
       " <re.Match object; span=(74, 96), match='http://t.co/QYzpB1gKmR'>,\n",
       " <re.Match object; span=(94, 116), match='http://t.co/99MbyFl3Id'>,\n",
       " <re.Match object; span=(114, 136), match='http://t.co/AVzsYIe1nT'>,\n",
       " None,\n",
       " None,\n",
       " None,\n",
       " <re.Match object; span=(59, 81), match='http://t.co/WXbrArc7p3'>,\n",
       " None,\n",
       " None,\n",
       " <re.Match object; span=(61, 83), match='http://t.co/0BtnIwAgt1'>,\n",
       " None,\n",
       " None,\n",
       " None,\n",
       " None,\n",
       " None,\n",
       " None,\n",
       " None,\n",
       " None,\n",
       " None,\n",
       " None,\n",
       " None,\n",
       " <re.Match object; span=(22, 45), match='https://t.co/k5KnNwugwT'>,\n",
       " None,\n",
       " None,\n",
       " None,\n",
       " None,\n",
       " None,\n",
       " None,\n",
       " None,\n",
       " None,\n",
       " None,\n",
       " None,\n",
       " None,\n",
       " None,\n",
       " None,\n",
       " None,\n",
       " None,\n",
       " None,\n",
       " None,\n",
       " None,\n",
       " None,\n",
       " None,\n",
       " None,\n",
       " None,\n",
       " None,\n",
       " None,\n",
       " None,\n",
       " None,\n",
       " None,\n",
       " None,\n",
       " None,\n",
       " <re.Match object; span=(53, 75), match='http://t.co/DEfJ7XeKgX'>,\n",
       " None,\n",
       " <re.Match object; span=(32, 54), match='http://t.co/UQKX5VbiuM'>,\n",
       " None,\n",
       " None,\n",
       " None,\n",
       " None,\n",
       " None,\n",
       " None,\n",
       " None,\n",
       " None,\n",
       " None,\n",
       " None,\n",
       " None,\n",
       " None,\n",
       " None,\n",
       " None,\n",
       " None,\n",
       " None,\n",
       " None,\n",
       " None,\n",
       " None,\n",
       " None,\n",
       " None,\n",
       " None,\n",
       " None,\n",
       " None,\n",
       " None,\n",
       " None,\n",
       " <re.Match object; span=(65, 87), match='http://t.co/rrZbZGO48N'>,\n",
       " <re.Match object; span=(62, 84), match='http://t.co/oLG09Kb6HA'>,\n",
       " <re.Match object; span=(67, 89), match='http://t.co/wYOKt0ftRw'>,\n",
       " None,\n",
       " None,\n",
       " <re.Match object; span=(50, 72), match='http://t.co/XZLRWC0PIK'>,\n",
       " <re.Match object; span=(87, 109), match='http://t.co/ZZcbBQyJ1q'>,\n",
       " None,\n",
       " <re.Match object; span=(116, 138), match='http://t.co/7LE5GQ2Psx'>,\n",
       " <re.Match object; span=(0, 22), match='http://t.co/ETkd58Un8n'>,\n",
       " None,\n",
       " None,\n",
       " None,\n",
       " <re.Match object; span=(40, 62), match='http://t.co/yBhBArajXp'>,\n",
       " None,\n",
       " <re.Match object; span=(43, 65), match='http://t.co/T8Sv2ai7sW'>,\n",
       " None,\n",
       " None,\n",
       " None,\n",
       " <re.Match object; span=(107, 130), match='https://t.co/if62SdXVp7'>,\n",
       " None,\n",
       " None,\n",
       " <re.Match object; span=(112, 135), match='https://t.co/gAAE0nO5du'>,\n",
       " <re.Match object; span=(116, 138), match='http://t.co/h31mmuduqt'>,\n",
       " None,\n",
       " None,\n",
       " <re.Match object; span=(103, 125), match='http://t.co/vq3yaB2j8N'>,\n",
       " <re.Match object; span=(27, 49), match='http://t.co/0T8VqKEArI'>,\n",
       " <re.Match object; span=(23, 46), match='http://t.co/ucy5fEA9yu!'>,\n",
       " None,\n",
       " None,\n",
       " <re.Match object; span=(45, 67), match='http://t.co/pjLDA9HD5v'>,\n",
       " None,\n",
       " None,\n",
       " <re.Match object; span=(6, 28), match='http://t.co/U7vavyrGv9'>,\n",
       " None,\n",
       " None,\n",
       " None,\n",
       " None,\n",
       " None,\n",
       " <re.Match object; span=(29, 51), match='http://t.co/cUbze5MIZm'>,\n",
       " <re.Match object; span=(43, 65), match='http://t.co/kHSBZKfd6O'>,\n",
       " <re.Match object; span=(50, 72), match='http://t.co/EGioxBabOe'>,\n",
       " None,\n",
       " None,\n",
       " <re.Match object; span=(33, 55), match='http://t.co/MgR809yc5a'>,\n",
       " None,\n",
       " None,\n",
       " None,\n",
       " None,\n",
       " None,\n",
       " None,\n",
       " <re.Match object; span=(46, 68), match='http://t.co/aBoLxMH1vy'>,\n",
       " None,\n",
       " None,\n",
       " None,\n",
       " None,\n",
       " <re.Match object; span=(66, 88), match='http://t.co/gkNRP0e8Qs'>,\n",
       " <re.Match object; span=(44, 66), match='http://t.co/nyv51681uE'>,\n",
       " <re.Match object; span=(52, 74), match='http://t.co/vcIrn1Md8v'>,\n",
       " None,\n",
       " None,\n",
       " None,\n",
       " None,\n",
       " None,\n",
       " <re.Match object; span=(63, 86), match='https://t.co/ZNTg2wndmJ'>,\n",
       " None,\n",
       " <re.Match object; span=(81, 103), match='http://t.co/4yu5Sy1Cui'>,\n",
       " None,\n",
       " None,\n",
       " None,\n",
       " None,\n",
       " None,\n",
       " None,\n",
       " <re.Match object; span=(76, 98), match='http://t.co/gJBAInQWN9'>,\n",
       " None,\n",
       " None,\n",
       " None,\n",
       " None,\n",
       " None,\n",
       " None,\n",
       " None,\n",
       " None,\n",
       " None,\n",
       " None,\n",
       " None,\n",
       " None,\n",
       " <re.Match object; span=(52, 74), match='http://t.co/66YVulIZbk'>,\n",
       " None,\n",
       " None,\n",
       " <re.Match object; span=(75, 97), match='http://t.co/Zk69uGXMT8'>,\n",
       " <re.Match object; span=(96, 118), match='http://t.co/6qX7arf4AG'>,\n",
       " None,\n",
       " None,\n",
       " None,\n",
       " None,\n",
       " None,\n",
       " <re.Match object; span=(105, 128), match='https://t.co/LnpsCaDaXr'>,\n",
       " <re.Match object; span=(47, 70), match='https://t.co/jRKGYl7Te5'>,\n",
       " None,\n",
       " None,\n",
       " <re.Match object; span=(99, 121), match='http://t.co/DsB3lDfuxU'>,\n",
       " None,\n",
       " <re.Match object; span=(45, 68), match='https://t.co/CIyty0FgpR'>,\n",
       " None,\n",
       " <re.Match object; span=(57, 79), match='http://t.co/HvwkJQXXyT'>,\n",
       " <re.Match object; span=(108, 130), match='http://t.co/J9LPdRXCDE'>,\n",
       " None,\n",
       " None,\n",
       " None,\n",
       " None,\n",
       " None,\n",
       " <re.Match object; span=(98, 121), match='https://t.co/VnNi3zzuZ6'>,\n",
       " None,\n",
       " None,\n",
       " None,\n",
       " None,\n",
       " <re.Match object; span=(93, 115), match='http://t.co/IjzcYtbFfo'>,\n",
       " None,\n",
       " None,\n",
       " None,\n",
       " <re.Match object; span=(116, 138), match='http://t.co/Kv5L4PPXfG'>,\n",
       " None,\n",
       " <re.Match object; span=(36, 58), match='http://t.co/LUigmHMa1i'>,\n",
       " None,\n",
       " <re.Match object; span=(20, 42), match='http://t.co/RVczMimfVx'>,\n",
       " None,\n",
       " None,\n",
       " None,\n",
       " <re.Match object; span=(107, 129), match='http://t.co/FPjLwOXKlg'>,\n",
       " <re.Match object; span=(51, 73), match='http://t.co/vRptHvPymt'>,\n",
       " None,\n",
       " <re.Match object; span=(53, 75), match='http://t.co/l0pmmtZLwP'>,\n",
       " None,\n",
       " None,\n",
       " None,\n",
       " None,\n",
       " None,\n",
       " None,\n",
       " None,\n",
       " None,\n",
       " None,\n",
       " None,\n",
       " <re.Match object; span=(74, 96), match='http://t.co/IW7ELSzIfZ'>,\n",
       " None,\n",
       " <re.Match object; span=(97, 119), match='http://t.co/KOLMzBz1pZ'>,\n",
       " <re.Match object; span=(116, 138), match='http://t.co/wjNTaOkdHf'>,\n",
       " <re.Match object; span=(107, 129), match='http://t.co/2Fenu1SYu6'>,\n",
       " <re.Match object; span=(88, 110), match='http://t.co/PgB2BmCFX8'>,\n",
       " <re.Match object; span=(74, 97), match='https://t.co/1BUF0xM53d'>,\n",
       " <re.Match object; span=(94, 117), match='https://t.co/0YzgW9ZbHR'>,\n",
       " None,\n",
       " <re.Match object; span=(115, 137), match='http://t.co/EKfaZ6wVBz'>,\n",
       " None,\n",
       " None,\n",
       " None,\n",
       " None,\n",
       " None,\n",
       " None,\n",
       " None,\n",
       " None,\n",
       " None,\n",
       " None,\n",
       " None,\n",
       " None,\n",
       " None,\n",
       " <re.Match object; span=(94, 116), match='http://t.co/y87Gi3BRlV'>,\n",
       " <re.Match object; span=(94, 116), match='http://t.co/BLAAWHYScT'>,\n",
       " None,\n",
       " None,\n",
       " <re.Match object; span=(115, 137), match='http://t.co/FTM4RKl8mN'>,\n",
       " <re.Match object; span=(88, 110), match='http://t.co/JrxgoLnPqw'>,\n",
       " <re.Match object; span=(88, 110), match='http://t.co/GGgFVO5Pb4'>,\n",
       " <re.Match object; span=(63, 85), match='http://t.co/mUf5cZQjrL'>,\n",
       " <re.Match object; span=(87, 109), match='http://t.co/r4k7TyLofJ'>,\n",
       " <re.Match object; span=(115, 137), match='http://t.co/A9BNlse6QB'>,\n",
       " <re.Match object; span=(94, 116), match='http://t.co/3PCNtcZoxv'>,\n",
       " <re.Match object; span=(52, 74), match='http://t.co/lvKoEMsq8m'>,\n",
       " <re.Match object; span=(85, 107), match='http://t.co/UooZXauS26'>,\n",
       " None,\n",
       " <re.Match object; span=(94, 116), match='http://t.co/4FXfllRIen'>,\n",
       " <re.Match object; span=(94, 116), match='http://t.co/HCDiwE5flc'>,\n",
       " <re.Match object; span=(88, 110), match='http://t.co/FB8snRg4HU'>,\n",
       " <re.Match object; span=(84, 106), match='http://t.co/zujwUiomb3'>,\n",
       " <re.Match object; span=(52, 74), match='http://t.co/8JymD9YPSJ'>,\n",
       " <re.Match object; span=(85, 107), match='http://t.co/UooZXauS26'>,\n",
       " <re.Match object; span=(88, 110), match='http://t.co/I4AogcSOY5'>,\n",
       " <re.Match object; span=(94, 116), match='http://t.co/NCjPGf6znv'>,\n",
       " <re.Match object; span=(84, 106), match='http://t.co/zujwUiomb3'>,\n",
       " None,\n",
       " <re.Match object; span=(25, 47), match='http://t.co/iPXpI3me16'>,\n",
       " <re.Match object; span=(85, 107), match='http://t.co/zujwUiomb3'>,\n",
       " <re.Match object; span=(25, 47), match='http://t.co/hPd3SNM6oy'>,\n",
       " <re.Match object; span=(94, 116), match='http://t.co/rcBurZSb2b'>,\n",
       " <re.Match object; span=(88, 110), match='http://t.co/VJgR6Liaxh'>,\n",
       " <re.Match object; span=(84, 106), match='http://t.co/zujwUiomb3'>,\n",
       " None,\n",
       " <re.Match object; span=(94, 116), match='http://t.co/uR7FeXszg4'>,\n",
       " None,\n",
       " None,\n",
       " None,\n",
       " None,\n",
       " None,\n",
       " None,\n",
       " None,\n",
       " None,\n",
       " None,\n",
       " <re.Match object; span=(5, 32), match='https://t.co/dODXi41Y1CåÊis'>,\n",
       " None,\n",
       " <re.Match object; span=(26, 48), match='http://t.co/aFssGPnZWi'>,\n",
       " None,\n",
       " None,\n",
       " <re.Match object; span=(60, 82), match='http://t.co/81g18wSAUk'>,\n",
       " None,\n",
       " ...]"
      ]
     },
     "execution_count": 10,
     "metadata": {},
     "output_type": "execute_result"
    }
   ],
   "source": [
    "[re.search(\"https?://\\S+|www\\.\\S+\",x) for x in train['text']]"
   ]
  },
  {
   "cell_type": "markdown",
   "metadata": {},
   "source": [
    "We will need to remove all URL's from our text so let's make a function to do so."
   ]
  },
  {
   "cell_type": "code",
   "execution_count": 11,
   "metadata": {},
   "outputs": [],
   "source": [
    "def remove_url(text):\n",
    "    url = re.compile(\"https?://\\S+|www\\.\\S+\")\n",
    "    return url.sub(r'',text)"
   ]
  },
  {
   "cell_type": "code",
   "execution_count": 12,
   "metadata": {},
   "outputs": [],
   "source": [
    "train['text'] = train['text'].apply(lambda x:remove_url(x))"
   ]
  },
  {
   "cell_type": "markdown",
   "metadata": {},
   "source": [
    "Let's make sure that my function worked and removed all URL's from the text."
   ]
  },
  {
   "cell_type": "code",
   "execution_count": 13,
   "metadata": {},
   "outputs": [
    {
     "data": {
      "text/plain": [
       "0                                 []\n",
       "1                                 []\n",
       "2                                 []\n",
       "3                                 []\n",
       "4                                 []\n",
       "                    ...             \n",
       "7608                              []\n",
       "7609    [@aria_ahrary, @TheTawniest]\n",
       "7610                              []\n",
       "7611                              []\n",
       "7612                              []\n",
       "Name: text, Length: 7613, dtype: object"
      ]
     },
     "execution_count": 13,
     "metadata": {},
     "output_type": "execute_result"
    }
   ],
   "source": [
    "train['text'].apply(lambda x: re.findall(r\"@\\S+\",x))"
   ]
  },
  {
   "cell_type": "markdown",
   "metadata": {},
   "source": [
    "Let's remove mentions as well."
   ]
  },
  {
   "cell_type": "code",
   "execution_count": 14,
   "metadata": {},
   "outputs": [],
   "source": [
    "def remove_mentions(text):\n",
    "    url = re.compile(\"@\\S+\")\n",
    "    return url.sub(r\"\",text)"
   ]
  },
  {
   "cell_type": "code",
   "execution_count": 15,
   "metadata": {},
   "outputs": [],
   "source": [
    "train['text']=train['text'].apply(lambda x: remove_mentions(x))"
   ]
  },
  {
   "cell_type": "code",
   "execution_count": 16,
   "metadata": {},
   "outputs": [
    {
     "data": {
      "text/plain": [
       "0    0.57034\n",
       "1    0.42966\n",
       "Name: target, dtype: float64"
      ]
     },
     "execution_count": 16,
     "metadata": {},
     "output_type": "execute_result"
    }
   ],
   "source": [
    "train['target'].value_counts(normalize=True)"
   ]
  },
  {
   "cell_type": "markdown",
   "metadata": {},
   "source": [
    "Let's do some EDA on our Text column and compare disaster to non disaster tweets."
   ]
  },
  {
   "cell_type": "code",
   "execution_count": 17,
   "metadata": {},
   "outputs": [],
   "source": [
    "X = train['text']\n",
    "y= train['target']"
   ]
  },
  {
   "cell_type": "code",
   "execution_count": 18,
   "metadata": {},
   "outputs": [],
   "source": [
    "y = y.replace({0:'Not a Disaster',1:'Disaster'})"
   ]
  },
  {
   "cell_type": "code",
   "execution_count": 19,
   "metadata": {},
   "outputs": [],
   "source": [
    "X_train,X_test,y_train,y_test = train_test_split(X,y,stratify=y,random_state=42)"
   ]
  },
  {
   "cell_type": "code",
   "execution_count": 20,
   "metadata": {},
   "outputs": [
    {
     "data": {
      "text/plain": [
       "Not a Disaster    4342\n",
       "Disaster          3271\n",
       "Name: target, dtype: int64"
      ]
     },
     "execution_count": 20,
     "metadata": {},
     "output_type": "execute_result"
    }
   ],
   "source": [
    "y.value_counts()"
   ]
  },
  {
   "cell_type": "markdown",
   "metadata": {},
   "source": [
    "### Linear SVC"
   ]
  },
  {
   "cell_type": "code",
   "execution_count": 21,
   "metadata": {},
   "outputs": [],
   "source": [
    "svc_pipe = make_pipeline(TfidfVectorizer(), SVC())"
   ]
  },
  {
   "cell_type": "code",
   "execution_count": 22,
   "metadata": {},
   "outputs": [
    {
     "data": {
      "text/html": [
       "<style>div.sk-top-container {color: black;background-color: white;}div.sk-toggleable {background-color: white;}label.sk-toggleable__label {cursor: pointer;display: block;width: 100%;margin-bottom: 0;padding: 0.2em 0.3em;box-sizing: border-box;text-align: center;}div.sk-toggleable__content {max-height: 0;max-width: 0;overflow: hidden;text-align: left;background-color: #f0f8ff;}div.sk-toggleable__content pre {margin: 0.2em;color: black;border-radius: 0.25em;background-color: #f0f8ff;}input.sk-toggleable__control:checked~div.sk-toggleable__content {max-height: 200px;max-width: 100%;overflow: auto;}div.sk-estimator input.sk-toggleable__control:checked~label.sk-toggleable__label {background-color: #d4ebff;}div.sk-label input.sk-toggleable__control:checked~label.sk-toggleable__label {background-color: #d4ebff;}input.sk-hidden--visually {border: 0;clip: rect(1px 1px 1px 1px);clip: rect(1px, 1px, 1px, 1px);height: 1px;margin: -1px;overflow: hidden;padding: 0;position: absolute;width: 1px;}div.sk-estimator {font-family: monospace;background-color: #f0f8ff;margin: 0.25em 0.25em;border: 1px dotted black;border-radius: 0.25em;box-sizing: border-box;}div.sk-estimator:hover {background-color: #d4ebff;}div.sk-parallel-item::after {content: \"\";width: 100%;border-bottom: 1px solid gray;flex-grow: 1;}div.sk-label:hover label.sk-toggleable__label {background-color: #d4ebff;}div.sk-serial::before {content: \"\";position: absolute;border-left: 1px solid gray;box-sizing: border-box;top: 2em;bottom: 0;left: 50%;}div.sk-serial {display: flex;flex-direction: column;align-items: center;background-color: white;}div.sk-item {z-index: 1;}div.sk-parallel {display: flex;align-items: stretch;justify-content: center;background-color: white;}div.sk-parallel-item {display: flex;flex-direction: column;position: relative;background-color: white;}div.sk-parallel-item:first-child::after {align-self: flex-end;width: 50%;}div.sk-parallel-item:last-child::after {align-self: flex-start;width: 50%;}div.sk-parallel-item:only-child::after {width: 0;}div.sk-dashed-wrapped {border: 1px dashed gray;margin: 0.2em;box-sizing: border-box;padding-bottom: 0.1em;background-color: white;position: relative;}div.sk-label label {font-family: monospace;font-weight: bold;background-color: white;display: inline-block;line-height: 1.2em;}div.sk-label-container {position: relative;z-index: 2;text-align: center;}div.sk-container {display: inline-block;position: relative;}</style><div class=\"sk-top-container\"><div class=\"sk-container\"><div class=\"sk-item sk-dashed-wrapped\"><div class=\"sk-label-container\"><div class=\"sk-label sk-toggleable\"><input class=\"sk-toggleable__control sk-hidden--visually\" id=\"227fc63e-baff-4d96-8875-200f2943d465\" type=\"checkbox\" ><label class=\"sk-toggleable__label\" for=\"227fc63e-baff-4d96-8875-200f2943d465\">Pipeline</label><div class=\"sk-toggleable__content\"><pre>Pipeline(steps=[('tfidfvectorizer', TfidfVectorizer()), ('svc', SVC())])</pre></div></div></div><div class=\"sk-serial\"><div class=\"sk-item\"><div class=\"sk-estimator sk-toggleable\"><input class=\"sk-toggleable__control sk-hidden--visually\" id=\"72fe4cec-8768-442b-8148-a3c341e1ad35\" type=\"checkbox\" ><label class=\"sk-toggleable__label\" for=\"72fe4cec-8768-442b-8148-a3c341e1ad35\">TfidfVectorizer</label><div class=\"sk-toggleable__content\"><pre>TfidfVectorizer()</pre></div></div></div><div class=\"sk-item\"><div class=\"sk-estimator sk-toggleable\"><input class=\"sk-toggleable__control sk-hidden--visually\" id=\"3a145161-da7f-4a38-be70-4da5c223f12c\" type=\"checkbox\" ><label class=\"sk-toggleable__label\" for=\"3a145161-da7f-4a38-be70-4da5c223f12c\">SVC</label><div class=\"sk-toggleable__content\"><pre>SVC()</pre></div></div></div></div></div></div></div>"
      ],
      "text/plain": [
       "Pipeline(steps=[('tfidfvectorizer', TfidfVectorizer()), ('svc', SVC())])"
      ]
     },
     "execution_count": 22,
     "metadata": {},
     "output_type": "execute_result"
    }
   ],
   "source": [
    "svc_pipe.fit(X_train,y_train)"
   ]
  },
  {
   "cell_type": "code",
   "execution_count": 23,
   "metadata": {},
   "outputs": [
    {
     "data": {
      "text/plain": [
       "0.7967436974789915"
      ]
     },
     "execution_count": 23,
     "metadata": {},
     "output_type": "execute_result"
    }
   ],
   "source": [
    "svc_pipe.score(X_test,y_test)"
   ]
  },
  {
   "cell_type": "code",
   "execution_count": 24,
   "metadata": {},
   "outputs": [
    {
     "data": {
      "text/plain": [
       "<sklearn.metrics._plot.confusion_matrix.ConfusionMatrixDisplay at 0x1a6d337e908>"
      ]
     },
     "execution_count": 24,
     "metadata": {},
     "output_type": "execute_result"
    },
    {
     "data": {
      "image/png": "[encoded data removed]",
      "text/plain": [
       "<Figure size 432x288 with 2 Axes>"
      ]
     },
     "metadata": {
      "needs_background": "light"
     },
     "output_type": "display_data"
    }
   ],
   "source": [
    "plot_confusion_matrix(svc_pipe,X_test,y_test)"
   ]
  },
  {
   "cell_type": "markdown",
   "metadata": {},
   "source": [
    "Let's run the same pipeline with stop words removed."
   ]
  },
  {
   "cell_type": "code",
   "execution_count": 25,
   "metadata": {},
   "outputs": [],
   "source": [
    "svc_pipe2 = make_pipeline(TfidfVectorizer(stop_words='english'),SVC())"
   ]
  },
  {
   "cell_type": "code",
   "execution_count": 26,
   "metadata": {},
   "outputs": [
    {
     "data": {
      "text/html": [
       "<style>div.sk-top-container {color: black;background-color: white;}div.sk-toggleable {background-color: white;}label.sk-toggleable__label {cursor: pointer;display: block;width: 100%;margin-bottom: 0;padding: 0.2em 0.3em;box-sizing: border-box;text-align: center;}div.sk-toggleable__content {max-height: 0;max-width: 0;overflow: hidden;text-align: left;background-color: #f0f8ff;}div.sk-toggleable__content pre {margin: 0.2em;color: black;border-radius: 0.25em;background-color: #f0f8ff;}input.sk-toggleable__control:checked~div.sk-toggleable__content {max-height: 200px;max-width: 100%;overflow: auto;}div.sk-estimator input.sk-toggleable__control:checked~label.sk-toggleable__label {background-color: #d4ebff;}div.sk-label input.sk-toggleable__control:checked~label.sk-toggleable__label {background-color: #d4ebff;}input.sk-hidden--visually {border: 0;clip: rect(1px 1px 1px 1px);clip: rect(1px, 1px, 1px, 1px);height: 1px;margin: -1px;overflow: hidden;padding: 0;position: absolute;width: 1px;}div.sk-estimator {font-family: monospace;background-color: #f0f8ff;margin: 0.25em 0.25em;border: 1px dotted black;border-radius: 0.25em;box-sizing: border-box;}div.sk-estimator:hover {background-color: #d4ebff;}div.sk-parallel-item::after {content: \"\";width: 100%;border-bottom: 1px solid gray;flex-grow: 1;}div.sk-label:hover label.sk-toggleable__label {background-color: #d4ebff;}div.sk-serial::before {content: \"\";position: absolute;border-left: 1px solid gray;box-sizing: border-box;top: 2em;bottom: 0;left: 50%;}div.sk-serial {display: flex;flex-direction: column;align-items: center;background-color: white;}div.sk-item {z-index: 1;}div.sk-parallel {display: flex;align-items: stretch;justify-content: center;background-color: white;}div.sk-parallel-item {display: flex;flex-direction: column;position: relative;background-color: white;}div.sk-parallel-item:first-child::after {align-self: flex-end;width: 50%;}div.sk-parallel-item:last-child::after {align-self: flex-start;width: 50%;}div.sk-parallel-item:only-child::after {width: 0;}div.sk-dashed-wrapped {border: 1px dashed gray;margin: 0.2em;box-sizing: border-box;padding-bottom: 0.1em;background-color: white;position: relative;}div.sk-label label {font-family: monospace;font-weight: bold;background-color: white;display: inline-block;line-height: 1.2em;}div.sk-label-container {position: relative;z-index: 2;text-align: center;}div.sk-container {display: inline-block;position: relative;}</style><div class=\"sk-top-container\"><div class=\"sk-container\"><div class=\"sk-item sk-dashed-wrapped\"><div class=\"sk-label-container\"><div class=\"sk-label sk-toggleable\"><input class=\"sk-toggleable__control sk-hidden--visually\" id=\"2faf2b55-5cde-48f0-8a2c-68c0737d75de\" type=\"checkbox\" ><label class=\"sk-toggleable__label\" for=\"2faf2b55-5cde-48f0-8a2c-68c0737d75de\">Pipeline</label><div class=\"sk-toggleable__content\"><pre>Pipeline(steps=[('tfidfvectorizer', TfidfVectorizer(stop_words='english')),\n",
       "                ('svc', SVC())])</pre></div></div></div><div class=\"sk-serial\"><div class=\"sk-item\"><div class=\"sk-estimator sk-toggleable\"><input class=\"sk-toggleable__control sk-hidden--visually\" id=\"fc701586-db9f-4c5e-acc4-8349cc3f86e0\" type=\"checkbox\" ><label class=\"sk-toggleable__label\" for=\"fc701586-db9f-4c5e-acc4-8349cc3f86e0\">TfidfVectorizer</label><div class=\"sk-toggleable__content\"><pre>TfidfVectorizer(stop_words='english')</pre></div></div></div><div class=\"sk-item\"><div class=\"sk-estimator sk-toggleable\"><input class=\"sk-toggleable__control sk-hidden--visually\" id=\"bb00e6de-a857-4488-a173-2d90f3f42c5e\" type=\"checkbox\" ><label class=\"sk-toggleable__label\" for=\"bb00e6de-a857-4488-a173-2d90f3f42c5e\">SVC</label><div class=\"sk-toggleable__content\"><pre>SVC()</pre></div></div></div></div></div></div></div>"
      ],
      "text/plain": [
       "Pipeline(steps=[('tfidfvectorizer', TfidfVectorizer(stop_words='english')),\n",
       "                ('svc', SVC())])"
      ]
     },
     "execution_count": 26,
     "metadata": {},
     "output_type": "execute_result"
    }
   ],
   "source": [
    "svc_pipe2.fit(X_train,y_train)"
   ]
  },
  {
   "cell_type": "code",
   "execution_count": 27,
   "metadata": {},
   "outputs": [
    {
     "data": {
      "text/plain": [
       "0.7930672268907563"
      ]
     },
     "execution_count": 27,
     "metadata": {},
     "output_type": "execute_result"
    }
   ],
   "source": [
    "svc_pipe2.score(X_test,y_test)"
   ]
  },
  {
   "cell_type": "code",
   "execution_count": 28,
   "metadata": {},
   "outputs": [
    {
     "data": {
      "text/plain": [
       "<sklearn.metrics._plot.confusion_matrix.ConfusionMatrixDisplay at 0x1a6d4abaa88>"
      ]
     },
     "execution_count": 28,
     "metadata": {},
     "output_type": "execute_result"
    },
    {
     "data": {
      "image/png": "[encoded data removed]",
      "text/plain": [
       "<Figure size 432x288 with 2 Axes>"
      ]
     },
     "metadata": {
      "needs_background": "light"
     },
     "output_type": "display_data"
    }
   ],
   "source": [
    "plot_confusion_matrix(svc_pipe2,X_test,y_test)"
   ]
  },
  {
   "cell_type": "markdown",
   "metadata": {},
   "source": [
    "### Multinomial NB"
   ]
  },
  {
   "cell_type": "code",
   "execution_count": 29,
   "metadata": {},
   "outputs": [],
   "source": [
    "nb_pipe = make_pipeline(TfidfVectorizer(),MultinomialNB())"
   ]
  },
  {
   "cell_type": "code",
   "execution_count": 30,
   "metadata": {},
   "outputs": [
    {
     "data": {
      "text/html": [
       "<style>div.sk-top-container {color: black;background-color: white;}div.sk-toggleable {background-color: white;}label.sk-toggleable__label {cursor: pointer;display: block;width: 100%;margin-bottom: 0;padding: 0.2em 0.3em;box-sizing: border-box;text-align: center;}div.sk-toggleable__content {max-height: 0;max-width: 0;overflow: hidden;text-align: left;background-color: #f0f8ff;}div.sk-toggleable__content pre {margin: 0.2em;color: black;border-radius: 0.25em;background-color: #f0f8ff;}input.sk-toggleable__control:checked~div.sk-toggleable__content {max-height: 200px;max-width: 100%;overflow: auto;}div.sk-estimator input.sk-toggleable__control:checked~label.sk-toggleable__label {background-color: #d4ebff;}div.sk-label input.sk-toggleable__control:checked~label.sk-toggleable__label {background-color: #d4ebff;}input.sk-hidden--visually {border: 0;clip: rect(1px 1px 1px 1px);clip: rect(1px, 1px, 1px, 1px);height: 1px;margin: -1px;overflow: hidden;padding: 0;position: absolute;width: 1px;}div.sk-estimator {font-family: monospace;background-color: #f0f8ff;margin: 0.25em 0.25em;border: 1px dotted black;border-radius: 0.25em;box-sizing: border-box;}div.sk-estimator:hover {background-color: #d4ebff;}div.sk-parallel-item::after {content: \"\";width: 100%;border-bottom: 1px solid gray;flex-grow: 1;}div.sk-label:hover label.sk-toggleable__label {background-color: #d4ebff;}div.sk-serial::before {content: \"\";position: absolute;border-left: 1px solid gray;box-sizing: border-box;top: 2em;bottom: 0;left: 50%;}div.sk-serial {display: flex;flex-direction: column;align-items: center;background-color: white;}div.sk-item {z-index: 1;}div.sk-parallel {display: flex;align-items: stretch;justify-content: center;background-color: white;}div.sk-parallel-item {display: flex;flex-direction: column;position: relative;background-color: white;}div.sk-parallel-item:first-child::after {align-self: flex-end;width: 50%;}div.sk-parallel-item:last-child::after {align-self: flex-start;width: 50%;}div.sk-parallel-item:only-child::after {width: 0;}div.sk-dashed-wrapped {border: 1px dashed gray;margin: 0.2em;box-sizing: border-box;padding-bottom: 0.1em;background-color: white;position: relative;}div.sk-label label {font-family: monospace;font-weight: bold;background-color: white;display: inline-block;line-height: 1.2em;}div.sk-label-container {position: relative;z-index: 2;text-align: center;}div.sk-container {display: inline-block;position: relative;}</style><div class=\"sk-top-container\"><div class=\"sk-container\"><div class=\"sk-item sk-dashed-wrapped\"><div class=\"sk-label-container\"><div class=\"sk-label sk-toggleable\"><input class=\"sk-toggleable__control sk-hidden--visually\" id=\"b0a3e244-3677-4d64-b400-c252de36de2f\" type=\"checkbox\" ><label class=\"sk-toggleable__label\" for=\"b0a3e244-3677-4d64-b400-c252de36de2f\">Pipeline</label><div class=\"sk-toggleable__content\"><pre>Pipeline(steps=[('tfidfvectorizer', TfidfVectorizer()),\n",
       "                ('multinomialnb', MultinomialNB())])</pre></div></div></div><div class=\"sk-serial\"><div class=\"sk-item\"><div class=\"sk-estimator sk-toggleable\"><input class=\"sk-toggleable__control sk-hidden--visually\" id=\"72c073c2-5e8d-498e-a62a-38d99dc235ef\" type=\"checkbox\" ><label class=\"sk-toggleable__label\" for=\"72c073c2-5e8d-498e-a62a-38d99dc235ef\">TfidfVectorizer</label><div class=\"sk-toggleable__content\"><pre>TfidfVectorizer()</pre></div></div></div><div class=\"sk-item\"><div class=\"sk-estimator sk-toggleable\"><input class=\"sk-toggleable__control sk-hidden--visually\" id=\"d52580d7-3d5b-407f-a047-1f0c91b4927f\" type=\"checkbox\" ><label class=\"sk-toggleable__label\" for=\"d52580d7-3d5b-407f-a047-1f0c91b4927f\">MultinomialNB</label><div class=\"sk-toggleable__content\"><pre>MultinomialNB()</pre></div></div></div></div></div></div></div>"
      ],
      "text/plain": [
       "Pipeline(steps=[('tfidfvectorizer', TfidfVectorizer()),\n",
       "                ('multinomialnb', MultinomialNB())])"
      ]
     },
     "execution_count": 30,
     "metadata": {},
     "output_type": "execute_result"
    }
   ],
   "source": [
    "nb_pipe.fit(X_train,y_train)"
   ]
  },
  {
   "cell_type": "code",
   "execution_count": 31,
   "metadata": {},
   "outputs": [
    {
     "data": {
      "text/plain": [
       "0.7983193277310925"
      ]
     },
     "execution_count": 31,
     "metadata": {},
     "output_type": "execute_result"
    }
   ],
   "source": [
    "nb_pipe.score(X_test,y_test)"
   ]
  },
  {
   "cell_type": "code",
   "execution_count": 32,
   "metadata": {},
   "outputs": [
    {
     "data": {
      "text/plain": [
       "<sklearn.metrics._plot.confusion_matrix.ConfusionMatrixDisplay at 0x1a6dbdd3c48>"
      ]
     },
     "execution_count": 32,
     "metadata": {},
     "output_type": "execute_result"
    },
    {
     "data": {
      "image/png": "[encoded data removed]",
      "text/plain": [
       "<Figure size 432x288 with 2 Axes>"
      ]
     },
     "metadata": {
      "needs_background": "light"
     },
     "output_type": "display_data"
    }
   ],
   "source": [
    "plot_confusion_matrix(nb_pipe,X_test,y_test)"
   ]
  },
  {
   "cell_type": "code",
   "execution_count": 33,
   "metadata": {},
   "outputs": [],
   "source": [
    "nb_pipe2 = make_pipeline(TfidfVectorizer(stop_words='english'),MultinomialNB())"
   ]
  },
  {
   "cell_type": "code",
   "execution_count": 34,
   "metadata": {},
   "outputs": [
    {
     "data": {
      "text/html": [
       "<style>div.sk-top-container {color: black;background-color: white;}div.sk-toggleable {background-color: white;}label.sk-toggleable__label {cursor: pointer;display: block;width: 100%;margin-bottom: 0;padding: 0.2em 0.3em;box-sizing: border-box;text-align: center;}div.sk-toggleable__content {max-height: 0;max-width: 0;overflow: hidden;text-align: left;background-color: #f0f8ff;}div.sk-toggleable__content pre {margin: 0.2em;color: black;border-radius: 0.25em;background-color: #f0f8ff;}input.sk-toggleable__control:checked~div.sk-toggleable__content {max-height: 200px;max-width: 100%;overflow: auto;}div.sk-estimator input.sk-toggleable__control:checked~label.sk-toggleable__label {background-color: #d4ebff;}div.sk-label input.sk-toggleable__control:checked~label.sk-toggleable__label {background-color: #d4ebff;}input.sk-hidden--visually {border: 0;clip: rect(1px 1px 1px 1px);clip: rect(1px, 1px, 1px, 1px);height: 1px;margin: -1px;overflow: hidden;padding: 0;position: absolute;width: 1px;}div.sk-estimator {font-family: monospace;background-color: #f0f8ff;margin: 0.25em 0.25em;border: 1px dotted black;border-radius: 0.25em;box-sizing: border-box;}div.sk-estimator:hover {background-color: #d4ebff;}div.sk-parallel-item::after {content: \"\";width: 100%;border-bottom: 1px solid gray;flex-grow: 1;}div.sk-label:hover label.sk-toggleable__label {background-color: #d4ebff;}div.sk-serial::before {content: \"\";position: absolute;border-left: 1px solid gray;box-sizing: border-box;top: 2em;bottom: 0;left: 50%;}div.sk-serial {display: flex;flex-direction: column;align-items: center;background-color: white;}div.sk-item {z-index: 1;}div.sk-parallel {display: flex;align-items: stretch;justify-content: center;background-color: white;}div.sk-parallel-item {display: flex;flex-direction: column;position: relative;background-color: white;}div.sk-parallel-item:first-child::after {align-self: flex-end;width: 50%;}div.sk-parallel-item:last-child::after {align-self: flex-start;width: 50%;}div.sk-parallel-item:only-child::after {width: 0;}div.sk-dashed-wrapped {border: 1px dashed gray;margin: 0.2em;box-sizing: border-box;padding-bottom: 0.1em;background-color: white;position: relative;}div.sk-label label {font-family: monospace;font-weight: bold;background-color: white;display: inline-block;line-height: 1.2em;}div.sk-label-container {position: relative;z-index: 2;text-align: center;}div.sk-container {display: inline-block;position: relative;}</style><div class=\"sk-top-container\"><div class=\"sk-container\"><div class=\"sk-item sk-dashed-wrapped\"><div class=\"sk-label-container\"><div class=\"sk-label sk-toggleable\"><input class=\"sk-toggleable__control sk-hidden--visually\" id=\"43ff3380-b726-4552-a62f-861e3d15bfb5\" type=\"checkbox\" ><label class=\"sk-toggleable__label\" for=\"43ff3380-b726-4552-a62f-861e3d15bfb5\">Pipeline</label><div class=\"sk-toggleable__content\"><pre>Pipeline(steps=[('tfidfvectorizer', TfidfVectorizer(stop_words='english')),\n",
       "                ('multinomialnb', MultinomialNB())])</pre></div></div></div><div class=\"sk-serial\"><div class=\"sk-item\"><div class=\"sk-estimator sk-toggleable\"><input class=\"sk-toggleable__control sk-hidden--visually\" id=\"6d2ef5e5-ee80-406c-b40a-7ba41ee87844\" type=\"checkbox\" ><label class=\"sk-toggleable__label\" for=\"6d2ef5e5-ee80-406c-b40a-7ba41ee87844\">TfidfVectorizer</label><div class=\"sk-toggleable__content\"><pre>TfidfVectorizer(stop_words='english')</pre></div></div></div><div class=\"sk-item\"><div class=\"sk-estimator sk-toggleable\"><input class=\"sk-toggleable__control sk-hidden--visually\" id=\"72dbf0c8-098d-44d7-9e64-d8f82bc4f396\" type=\"checkbox\" ><label class=\"sk-toggleable__label\" for=\"72dbf0c8-098d-44d7-9e64-d8f82bc4f396\">MultinomialNB</label><div class=\"sk-toggleable__content\"><pre>MultinomialNB()</pre></div></div></div></div></div></div></div>"
      ],
      "text/plain": [
       "Pipeline(steps=[('tfidfvectorizer', TfidfVectorizer(stop_words='english')),\n",
       "                ('multinomialnb', MultinomialNB())])"
      ]
     },
     "execution_count": 34,
     "metadata": {},
     "output_type": "execute_result"
    }
   ],
   "source": [
    "nb_pipe2.fit(X_train,y_train)"
   ]
  },
  {
   "cell_type": "code",
   "execution_count": 35,
   "metadata": {},
   "outputs": [
    {
     "data": {
      "text/plain": [
       "0.7888655462184874"
      ]
     },
     "execution_count": 35,
     "metadata": {},
     "output_type": "execute_result"
    }
   ],
   "source": [
    "nb_pipe2.score(X_test,y_test)"
   ]
  },
  {
   "cell_type": "code",
   "execution_count": 36,
   "metadata": {},
   "outputs": [
    {
     "data": {
      "text/plain": [
       "<sklearn.metrics._plot.confusion_matrix.ConfusionMatrixDisplay at 0x1a6dbce9f08>"
      ]
     },
     "execution_count": 36,
     "metadata": {},
     "output_type": "execute_result"
    },
    {
     "data": {
      "image/png": "[encoded data removed]",
      "text/plain": [
       "<Figure size 432x288 with 2 Axes>"
      ]
     },
     "metadata": {
      "needs_background": "light"
     },
     "output_type": "display_data"
    }
   ],
   "source": [
    "plot_confusion_matrix(nb_pipe2,X_test,y_test)"
   ]
  },
  {
   "cell_type": "code",
   "execution_count": 83,
   "metadata": {},
   "outputs": [],
   "source": [
    "params = {\n",
    "    'tfidfvectorizer__max_df':np.linspace(0.4,1,3),\n",
    "    'tfidfvectorizer__ngram_range':[(1,1),(1,2),(2,3),(2,4)],\n",
    "    'multinomialnb__alpha':[.01,.1,.5,1,2]\n",
    "}"
   ]
  },
  {
   "cell_type": "code",
   "execution_count": 84,
   "metadata": {},
   "outputs": [],
   "source": [
    "nb_gs = GridSearchCV(nb_pipe2,params,n_jobs=-1)"
   ]
  },
  {
   "cell_type": "code",
   "execution_count": 85,
   "metadata": {},
   "outputs": [
    {
     "data": {
      "text/html": [
       "<style>div.sk-top-container {color: black;background-color: white;}div.sk-toggleable {background-color: white;}label.sk-toggleable__label {cursor: pointer;display: block;width: 100%;margin-bottom: 0;padding: 0.2em 0.3em;box-sizing: border-box;text-align: center;}div.sk-toggleable__content {max-height: 0;max-width: 0;overflow: hidden;text-align: left;background-color: #f0f8ff;}div.sk-toggleable__content pre {margin: 0.2em;color: black;border-radius: 0.25em;background-color: #f0f8ff;}input.sk-toggleable__control:checked~div.sk-toggleable__content {max-height: 200px;max-width: 100%;overflow: auto;}div.sk-estimator input.sk-toggleable__control:checked~label.sk-toggleable__label {background-color: #d4ebff;}div.sk-label input.sk-toggleable__control:checked~label.sk-toggleable__label {background-color: #d4ebff;}input.sk-hidden--visually {border: 0;clip: rect(1px 1px 1px 1px);clip: rect(1px, 1px, 1px, 1px);height: 1px;margin: -1px;overflow: hidden;padding: 0;position: absolute;width: 1px;}div.sk-estimator {font-family: monospace;background-color: #f0f8ff;margin: 0.25em 0.25em;border: 1px dotted black;border-radius: 0.25em;box-sizing: border-box;}div.sk-estimator:hover {background-color: #d4ebff;}div.sk-parallel-item::after {content: \"\";width: 100%;border-bottom: 1px solid gray;flex-grow: 1;}div.sk-label:hover label.sk-toggleable__label {background-color: #d4ebff;}div.sk-serial::before {content: \"\";position: absolute;border-left: 1px solid gray;box-sizing: border-box;top: 2em;bottom: 0;left: 50%;}div.sk-serial {display: flex;flex-direction: column;align-items: center;background-color: white;}div.sk-item {z-index: 1;}div.sk-parallel {display: flex;align-items: stretch;justify-content: center;background-color: white;}div.sk-parallel-item {display: flex;flex-direction: column;position: relative;background-color: white;}div.sk-parallel-item:first-child::after {align-self: flex-end;width: 50%;}div.sk-parallel-item:last-child::after {align-self: flex-start;width: 50%;}div.sk-parallel-item:only-child::after {width: 0;}div.sk-dashed-wrapped {border: 1px dashed gray;margin: 0.2em;box-sizing: border-box;padding-bottom: 0.1em;background-color: white;position: relative;}div.sk-label label {font-family: monospace;font-weight: bold;background-color: white;display: inline-block;line-height: 1.2em;}div.sk-label-container {position: relative;z-index: 2;text-align: center;}div.sk-container {display: inline-block;position: relative;}</style><div class=\"sk-top-container\"><div class=\"sk-container\"><div class=\"sk-item sk-dashed-wrapped\"><div class=\"sk-label-container\"><div class=\"sk-label sk-toggleable\"><input class=\"sk-toggleable__control sk-hidden--visually\" id=\"0659730b-b40c-4d01-a14f-42ddaed17ebc\" type=\"checkbox\" ><label class=\"sk-toggleable__label\" for=\"0659730b-b40c-4d01-a14f-42ddaed17ebc\">GridSearchCV</label><div class=\"sk-toggleable__content\"><pre>GridSearchCV(estimator=Pipeline(steps=[('tfidfvectorizer',\n",
       "                                        TfidfVectorizer(stop_words='english')),\n",
       "                                       ('multinomialnb', MultinomialNB())]),\n",
       "             n_jobs=-1,\n",
       "             param_grid={'multinomialnb__alpha': [0.01, 0.1, 0.5, 1, 2],\n",
       "                         'tfidfvectorizer__max_df': array([0.4, 0.7, 1. ]),\n",
       "                         'tfidfvectorizer__ngram_range': [(1, 1), (1, 2),\n",
       "                                                          (2, 3), (2, 4)]})</pre></div></div></div><div class=\"sk-parallel\"><div class=\"sk-parallel-item\"><div class=\"sk-item\"><div class=\"sk-serial\"><div class=\"sk-item\"><div class=\"sk-serial\"><div class=\"sk-item\"><div class=\"sk-estimator sk-toggleable\"><input class=\"sk-toggleable__control sk-hidden--visually\" id=\"bb24f1fa-9eef-43b4-8fa9-9442d0afa215\" type=\"checkbox\" ><label class=\"sk-toggleable__label\" for=\"bb24f1fa-9eef-43b4-8fa9-9442d0afa215\">TfidfVectorizer</label><div class=\"sk-toggleable__content\"><pre>TfidfVectorizer(stop_words='english')</pre></div></div></div><div class=\"sk-item\"><div class=\"sk-estimator sk-toggleable\"><input class=\"sk-toggleable__control sk-hidden--visually\" id=\"cad019bf-8a5f-4f53-93a4-d1997e16e11b\" type=\"checkbox\" ><label class=\"sk-toggleable__label\" for=\"cad019bf-8a5f-4f53-93a4-d1997e16e11b\">MultinomialNB</label><div class=\"sk-toggleable__content\"><pre>MultinomialNB()</pre></div></div></div></div></div></div></div></div></div></div></div></div>"
      ],
      "text/plain": [
       "GridSearchCV(estimator=Pipeline(steps=[('tfidfvectorizer',\n",
       "                                        TfidfVectorizer(stop_words='english')),\n",
       "                                       ('multinomialnb', MultinomialNB())]),\n",
       "             n_jobs=-1,\n",
       "             param_grid={'multinomialnb__alpha': [0.01, 0.1, 0.5, 1, 2],\n",
       "                         'tfidfvectorizer__max_df': array([0.4, 0.7, 1. ]),\n",
       "                         'tfidfvectorizer__ngram_range': [(1, 1), (1, 2),\n",
       "                                                          (2, 3), (2, 4)]})"
      ]
     },
     "execution_count": 85,
     "metadata": {},
     "output_type": "execute_result"
    }
   ],
   "source": [
    "nb_gs.fit(X_train,y_train)"
   ]
  },
  {
   "cell_type": "code",
   "execution_count": 86,
   "metadata": {},
   "outputs": [
    {
     "data": {
      "text/plain": [
       "{'multinomialnb__alpha': 1,\n",
       " 'tfidfvectorizer__max_df': 0.4,\n",
       " 'tfidfvectorizer__ngram_range': (1, 1)}"
      ]
     },
     "execution_count": 86,
     "metadata": {},
     "output_type": "execute_result"
    }
   ],
   "source": [
    "nb_gs.best_params_"
   ]
  },
  {
   "cell_type": "code",
   "execution_count": 87,
   "metadata": {},
   "outputs": [
    {
     "data": {
      "text/plain": [
       "0.7888655462184874"
      ]
     },
     "execution_count": 87,
     "metadata": {},
     "output_type": "execute_result"
    }
   ],
   "source": [
    "nb_gs.score(X_test,y_test)"
   ]
  },
  {
   "cell_type": "code",
   "execution_count": 42,
   "metadata": {},
   "outputs": [
    {
     "data": {
      "image/png": "[encoded data removed]",
      "text/plain": [
       "<Figure size 432x288 with 2 Axes>"
      ]
     },
     "metadata": {
      "needs_background": "light"
     },
     "output_type": "display_data"
    }
   ],
   "source": [
    "plot_confusion_matrix(nb_gs,X_test,y_test);\n",
    "plt.title(\"NB Grid Confusion Matrix\");"
   ]
  },
  {
   "cell_type": "markdown",
   "metadata": {},
   "source": [
    "### Logistic Regression"
   ]
  },
  {
   "cell_type": "code",
   "execution_count": 43,
   "metadata": {},
   "outputs": [],
   "source": [
    "lr_pipe = make_pipeline(TfidfVectorizer(stop_words='english'),LogisticRegression())"
   ]
  },
  {
   "cell_type": "code",
   "execution_count": 44,
   "metadata": {},
   "outputs": [
    {
     "data": {
      "text/html": [
       "<style>div.sk-top-container {color: black;background-color: white;}div.sk-toggleable {background-color: white;}label.sk-toggleable__label {cursor: pointer;display: block;width: 100%;margin-bottom: 0;padding: 0.2em 0.3em;box-sizing: border-box;text-align: center;}div.sk-toggleable__content {max-height: 0;max-width: 0;overflow: hidden;text-align: left;background-color: #f0f8ff;}div.sk-toggleable__content pre {margin: 0.2em;color: black;border-radius: 0.25em;background-color: #f0f8ff;}input.sk-toggleable__control:checked~div.sk-toggleable__content {max-height: 200px;max-width: 100%;overflow: auto;}div.sk-estimator input.sk-toggleable__control:checked~label.sk-toggleable__label {background-color: #d4ebff;}div.sk-label input.sk-toggleable__control:checked~label.sk-toggleable__label {background-color: #d4ebff;}input.sk-hidden--visually {border: 0;clip: rect(1px 1px 1px 1px);clip: rect(1px, 1px, 1px, 1px);height: 1px;margin: -1px;overflow: hidden;padding: 0;position: absolute;width: 1px;}div.sk-estimator {font-family: monospace;background-color: #f0f8ff;margin: 0.25em 0.25em;border: 1px dotted black;border-radius: 0.25em;box-sizing: border-box;}div.sk-estimator:hover {background-color: #d4ebff;}div.sk-parallel-item::after {content: \"\";width: 100%;border-bottom: 1px solid gray;flex-grow: 1;}div.sk-label:hover label.sk-toggleable__label {background-color: #d4ebff;}div.sk-serial::before {content: \"\";position: absolute;border-left: 1px solid gray;box-sizing: border-box;top: 2em;bottom: 0;left: 50%;}div.sk-serial {display: flex;flex-direction: column;align-items: center;background-color: white;}div.sk-item {z-index: 1;}div.sk-parallel {display: flex;align-items: stretch;justify-content: center;background-color: white;}div.sk-parallel-item {display: flex;flex-direction: column;position: relative;background-color: white;}div.sk-parallel-item:first-child::after {align-self: flex-end;width: 50%;}div.sk-parallel-item:last-child::after {align-self: flex-start;width: 50%;}div.sk-parallel-item:only-child::after {width: 0;}div.sk-dashed-wrapped {border: 1px dashed gray;margin: 0.2em;box-sizing: border-box;padding-bottom: 0.1em;background-color: white;position: relative;}div.sk-label label {font-family: monospace;font-weight: bold;background-color: white;display: inline-block;line-height: 1.2em;}div.sk-label-container {position: relative;z-index: 2;text-align: center;}div.sk-container {display: inline-block;position: relative;}</style><div class=\"sk-top-container\"><div class=\"sk-container\"><div class=\"sk-item sk-dashed-wrapped\"><div class=\"sk-label-container\"><div class=\"sk-label sk-toggleable\"><input class=\"sk-toggleable__control sk-hidden--visually\" id=\"a5aa59f8-429f-4df1-980e-3399ffabdd21\" type=\"checkbox\" ><label class=\"sk-toggleable__label\" for=\"a5aa59f8-429f-4df1-980e-3399ffabdd21\">Pipeline</label><div class=\"sk-toggleable__content\"><pre>Pipeline(steps=[('tfidfvectorizer', TfidfVectorizer(stop_words='english')),\n",
       "                ('logisticregression', LogisticRegression())])</pre></div></div></div><div class=\"sk-serial\"><div class=\"sk-item\"><div class=\"sk-estimator sk-toggleable\"><input class=\"sk-toggleable__control sk-hidden--visually\" id=\"a7e36bf2-9cff-4f22-ad5d-272fb2051651\" type=\"checkbox\" ><label class=\"sk-toggleable__label\" for=\"a7e36bf2-9cff-4f22-ad5d-272fb2051651\">TfidfVectorizer</label><div class=\"sk-toggleable__content\"><pre>TfidfVectorizer(stop_words='english')</pre></div></div></div><div class=\"sk-item\"><div class=\"sk-estimator sk-toggleable\"><input class=\"sk-toggleable__control sk-hidden--visually\" id=\"366e7e0a-2727-4ffc-8cdb-b082164f4f47\" type=\"checkbox\" ><label class=\"sk-toggleable__label\" for=\"366e7e0a-2727-4ffc-8cdb-b082164f4f47\">LogisticRegression</label><div class=\"sk-toggleable__content\"><pre>LogisticRegression()</pre></div></div></div></div></div></div></div>"
      ],
      "text/plain": [
       "Pipeline(steps=[('tfidfvectorizer', TfidfVectorizer(stop_words='english')),\n",
       "                ('logisticregression', LogisticRegression())])"
      ]
     },
     "execution_count": 44,
     "metadata": {},
     "output_type": "execute_result"
    }
   ],
   "source": [
    "lr_pipe.fit(X_train,y_train)"
   ]
  },
  {
   "cell_type": "code",
   "execution_count": 45,
   "metadata": {},
   "outputs": [
    {
     "data": {
      "text/plain": [
       "0.7909663865546218"
      ]
     },
     "execution_count": 45,
     "metadata": {},
     "output_type": "execute_result"
    }
   ],
   "source": [
    "lr_pipe.score(X_test,y_test)"
   ]
  },
  {
   "cell_type": "code",
   "execution_count": 46,
   "metadata": {},
   "outputs": [],
   "source": [
    "params = {\n",
    "    'tfidfvectorizer__max_df':np.linspace(0.4,1,3),\n",
    "    'tfidfvectorizer__ngram_range':[(1,1),(1,2),(2,3),(2,4)],\n",
    "    'tfidfvectorizer__max_features':range(500,5000,500),\n",
    "    'logisticregression__solver':['liblinear','lbfgs'],\n",
    "    'logisticregression__C':[0.2,0.5,1,2]\n",
    "}"
   ]
  },
  {
   "cell_type": "code",
   "execution_count": 47,
   "metadata": {},
   "outputs": [],
   "source": [
    "lr_gs = GridSearchCV(lr_pipe,params,n_jobs=-1)"
   ]
  },
  {
   "cell_type": "code",
   "execution_count": 48,
   "metadata": {},
   "outputs": [
    {
     "data": {
      "text/html": [
       "<style>div.sk-top-container {color: black;background-color: white;}div.sk-toggleable {background-color: white;}label.sk-toggleable__label {cursor: pointer;display: block;width: 100%;margin-bottom: 0;padding: 0.2em 0.3em;box-sizing: border-box;text-align: center;}div.sk-toggleable__content {max-height: 0;max-width: 0;overflow: hidden;text-align: left;background-color: #f0f8ff;}div.sk-toggleable__content pre {margin: 0.2em;color: black;border-radius: 0.25em;background-color: #f0f8ff;}input.sk-toggleable__control:checked~div.sk-toggleable__content {max-height: 200px;max-width: 100%;overflow: auto;}div.sk-estimator input.sk-toggleable__control:checked~label.sk-toggleable__label {background-color: #d4ebff;}div.sk-label input.sk-toggleable__control:checked~label.sk-toggleable__label {background-color: #d4ebff;}input.sk-hidden--visually {border: 0;clip: rect(1px 1px 1px 1px);clip: rect(1px, 1px, 1px, 1px);height: 1px;margin: -1px;overflow: hidden;padding: 0;position: absolute;width: 1px;}div.sk-estimator {font-family: monospace;background-color: #f0f8ff;margin: 0.25em 0.25em;border: 1px dotted black;border-radius: 0.25em;box-sizing: border-box;}div.sk-estimator:hover {background-color: #d4ebff;}div.sk-parallel-item::after {content: \"\";width: 100%;border-bottom: 1px solid gray;flex-grow: 1;}div.sk-label:hover label.sk-toggleable__label {background-color: #d4ebff;}div.sk-serial::before {content: \"\";position: absolute;border-left: 1px solid gray;box-sizing: border-box;top: 2em;bottom: 0;left: 50%;}div.sk-serial {display: flex;flex-direction: column;align-items: center;background-color: white;}div.sk-item {z-index: 1;}div.sk-parallel {display: flex;align-items: stretch;justify-content: center;background-color: white;}div.sk-parallel-item {display: flex;flex-direction: column;position: relative;background-color: white;}div.sk-parallel-item:first-child::after {align-self: flex-end;width: 50%;}div.sk-parallel-item:last-child::after {align-self: flex-start;width: 50%;}div.sk-parallel-item:only-child::after {width: 0;}div.sk-dashed-wrapped {border: 1px dashed gray;margin: 0.2em;box-sizing: border-box;padding-bottom: 0.1em;background-color: white;position: relative;}div.sk-label label {font-family: monospace;font-weight: bold;background-color: white;display: inline-block;line-height: 1.2em;}div.sk-label-container {position: relative;z-index: 2;text-align: center;}div.sk-container {display: inline-block;position: relative;}</style><div class=\"sk-top-container\"><div class=\"sk-container\"><div class=\"sk-item sk-dashed-wrapped\"><div class=\"sk-label-container\"><div class=\"sk-label sk-toggleable\"><input class=\"sk-toggleable__control sk-hidden--visually\" id=\"38e1c8cc-0777-4daa-b461-70e73f59d06f\" type=\"checkbox\" ><label class=\"sk-toggleable__label\" for=\"38e1c8cc-0777-4daa-b461-70e73f59d06f\">GridSearchCV</label><div class=\"sk-toggleable__content\"><pre>GridSearchCV(estimator=Pipeline(steps=[('tfidfvectorizer',\n",
       "                                        TfidfVectorizer(stop_words='english')),\n",
       "                                       ('logisticregression',\n",
       "                                        LogisticRegression())]),\n",
       "             n_jobs=-1,\n",
       "             param_grid={'logisticregression__C': [0.2, 0.5, 1, 2],\n",
       "                         'logisticregression__solver': ['liblinear', 'lbfgs'],\n",
       "                         'tfidfvectorizer__max_df': array([0.4, 0.7, 1. ]),\n",
       "                         'tfidfvectorizer__max_features': range(500, 5000, 500),\n",
       "                         'tfidfvectorizer__ngram_range': [(1, 1), (1, 2),\n",
       "                                                          (2, 3), (2, 4)]})</pre></div></div></div><div class=\"sk-parallel\"><div class=\"sk-parallel-item\"><div class=\"sk-item\"><div class=\"sk-serial\"><div class=\"sk-item\"><div class=\"sk-serial\"><div class=\"sk-item\"><div class=\"sk-estimator sk-toggleable\"><input class=\"sk-toggleable__control sk-hidden--visually\" id=\"2efdbbe4-a46a-4493-ba48-7d7c13cefc1d\" type=\"checkbox\" ><label class=\"sk-toggleable__label\" for=\"2efdbbe4-a46a-4493-ba48-7d7c13cefc1d\">TfidfVectorizer</label><div class=\"sk-toggleable__content\"><pre>TfidfVectorizer(stop_words='english')</pre></div></div></div><div class=\"sk-item\"><div class=\"sk-estimator sk-toggleable\"><input class=\"sk-toggleable__control sk-hidden--visually\" id=\"93de4fb9-4f7a-4b4f-b8f3-5cae8868f314\" type=\"checkbox\" ><label class=\"sk-toggleable__label\" for=\"93de4fb9-4f7a-4b4f-b8f3-5cae8868f314\">LogisticRegression</label><div class=\"sk-toggleable__content\"><pre>LogisticRegression()</pre></div></div></div></div></div></div></div></div></div></div></div></div>"
      ],
      "text/plain": [
       "GridSearchCV(estimator=Pipeline(steps=[('tfidfvectorizer',\n",
       "                                        TfidfVectorizer(stop_words='english')),\n",
       "                                       ('logisticregression',\n",
       "                                        LogisticRegression())]),\n",
       "             n_jobs=-1,\n",
       "             param_grid={'logisticregression__C': [0.2, 0.5, 1, 2],\n",
       "                         'logisticregression__solver': ['liblinear', 'lbfgs'],\n",
       "                         'tfidfvectorizer__max_df': array([0.4, 0.7, 1. ]),\n",
       "                         'tfidfvectorizer__max_features': range(500, 5000, 500),\n",
       "                         'tfidfvectorizer__ngram_range': [(1, 1), (1, 2),\n",
       "                                                          (2, 3), (2, 4)]})"
      ]
     },
     "execution_count": 48,
     "metadata": {},
     "output_type": "execute_result"
    }
   ],
   "source": [
    "lr_gs.fit(X_train,y_train)"
   ]
  },
  {
   "cell_type": "code",
   "execution_count": 49,
   "metadata": {},
   "outputs": [
    {
     "data": {
      "text/plain": [
       "{'logisticregression__C': 1,\n",
       " 'logisticregression__solver': 'liblinear',\n",
       " 'tfidfvectorizer__max_df': 0.4,\n",
       " 'tfidfvectorizer__max_features': 4500,\n",
       " 'tfidfvectorizer__ngram_range': (1, 2)}"
      ]
     },
     "execution_count": 49,
     "metadata": {},
     "output_type": "execute_result"
    }
   ],
   "source": [
    "lr_gs.best_params_"
   ]
  },
  {
   "cell_type": "code",
   "execution_count": 50,
   "metadata": {},
   "outputs": [
    {
     "data": {
      "text/plain": [
       "0.7930672268907563"
      ]
     },
     "execution_count": 50,
     "metadata": {},
     "output_type": "execute_result"
    }
   ],
   "source": [
    "lr_gs.score(X_test,y_test)"
   ]
  },
  {
   "cell_type": "code",
   "execution_count": 51,
   "metadata": {},
   "outputs": [
    {
     "data": {
      "text/plain": [
       "<sklearn.metrics._plot.confusion_matrix.ConfusionMatrixDisplay at 0x1a6dd186788>"
      ]
     },
     "execution_count": 51,
     "metadata": {},
     "output_type": "execute_result"
    },
    {
     "data": {
      "image/png": "[encoded data removed]",
      "text/plain": [
       "<Figure size 432x288 with 2 Axes>"
      ]
     },
     "metadata": {
      "needs_background": "light"
     },
     "output_type": "display_data"
    }
   ],
   "source": [
    "plot_confusion_matrix(lr_gs,X_test,y_test)"
   ]
  },
  {
   "cell_type": "code",
   "execution_count": 52,
   "metadata": {},
   "outputs": [],
   "source": [
    "# create df of tfidf idf weights and index as token feature names\n",
    "\n",
    "idf_weights = pd.DataFrame(lr_pipe.named_steps['tfidfvectorizer'].idf_,index=lr_pipe.named_steps['tfidfvectorizer'].get_feature_names(),columns=[\"idf_weights\"])"
   ]
  },
  {
   "cell_type": "code",
   "execution_count": 53,
   "metadata": {},
   "outputs": [],
   "source": [
    "x = idf_weights.sort_values(by='idf_weights',ascending=True)[:10]"
   ]
  },
  {
   "cell_type": "code",
   "execution_count": 54,
   "metadata": {},
   "outputs": [
    {
     "data": {
      "image/png": "[encoded data removed]",
      "text/plain": [
       "<Figure size 864x864 with 1 Axes>"
      ]
     },
     "metadata": {
      "needs_background": "light"
     },
     "output_type": "display_data"
    }
   ],
   "source": [
    "# plot tfidf vectorizer idf weights\n",
    "\n",
    "x.plot(kind='barh',figsize=(12,12),colormap='RdYlGn')\n",
    "plt.title('TfidfVectorizer Frequency Weights')\n",
    "plt.ylabel('Token')\n",
    "plt.xlabel('IDF Weight')\n",
    "plt.xticks(ticks=list(range(10)));"
   ]
  },
  {
   "cell_type": "code",
   "execution_count": 55,
   "metadata": {},
   "outputs": [],
   "source": [
    "# create df with\n",
    "\n",
    "df_lr = pd.DataFrame(lr_pipe.named_steps['tfidfvectorizer'].fit_transform(X_train).toarray(),columns=lr_pipe.named_steps['tfidfvectorizer'].get_feature_names())"
   ]
  },
  {
   "cell_type": "code",
   "execution_count": 56,
   "metadata": {},
   "outputs": [],
   "source": [
    "top_words =df_lr.sum().sort_values(ascending=False)[:20]"
   ]
  },
  {
   "cell_type": "code",
   "execution_count": 57,
   "metadata": {},
   "outputs": [
    {
     "data": {
      "image/png": "[encoded data removed]",
      "text/plain": [
       "<Figure size 576x432 with 1 Axes>"
      ]
     },
     "metadata": {
      "needs_background": "light"
     },
     "output_type": "display_data"
    }
   ],
   "source": [
    "top_words.plot(kind='barh',figsize=(8,6))\n",
    "plt.title(\"TfidfVectorizer Most Frequent Word Count\")\n",
    "plt.ylabel('Word')\n",
    "plt.xlabel('Count')\n",
    "plt.tight_layout();"
   ]
  },
  {
   "cell_type": "markdown",
   "metadata": {},
   "source": [
    "### Gradient Boosting Classifier"
   ]
  },
  {
   "cell_type": "code",
   "execution_count": 58,
   "metadata": {},
   "outputs": [],
   "source": [
    "# gbc_pipe = make_pipeline(TfidfVectorizer(stop_words='english'),GradientBoostingClassifier())\n",
    "\n",
    "# gbc_pipe.fit(X_train,y_train)\n",
    "\n",
    "# gbc_pipe.score(X_test,y_test)\n",
    "\n",
    "# params = {\n",
    "#     'tfidfvectorizer__max_df':np.linspace(0.4,1,3),\n",
    "#     'tfidfvectorizer__ngram_range':[(1,1),(1,2),(1,3)],\n",
    "#     'gradientboostingclassifier__learning_rate':[.001,.01,.1,1],\n",
    "#     'gradientboostingclassifier__max_features':[None,1_000,10_000]\n",
    "# }\n",
    "\n",
    "# gs = GridSearchCV(gbc_pipe,params,n_jobs=-1)\n",
    "\n",
    "# gs.fit(X_train,y_train)\n",
    "\n",
    "# gs.best_params_\n",
    "\n",
    "# gs.score(X_test,y_test)"
   ]
  },
  {
   "cell_type": "code",
   "execution_count": null,
   "metadata": {},
   "outputs": [],
   "source": []
  },
  {
   "cell_type": "markdown",
   "metadata": {},
   "source": [
    "### Voting Classifier"
   ]
  },
  {
   "cell_type": "code",
   "execution_count": 71,
   "metadata": {},
   "outputs": [],
   "source": [
    "vc_pipe = make_pipeline(TfidfVectorizer(stop_words='english'),VotingClassifier(estimators=[('nb',MultinomialNB()),('svc',SVC()),('lr',LogisticRegression())]))"
   ]
  },
  {
   "cell_type": "code",
   "execution_count": 72,
   "metadata": {},
   "outputs": [
    {
     "data": {
      "text/html": [
       "<style>div.sk-top-container {color: black;background-color: white;}div.sk-toggleable {background-color: white;}label.sk-toggleable__label {cursor: pointer;display: block;width: 100%;margin-bottom: 0;padding: 0.2em 0.3em;box-sizing: border-box;text-align: center;}div.sk-toggleable__content {max-height: 0;max-width: 0;overflow: hidden;text-align: left;background-color: #f0f8ff;}div.sk-toggleable__content pre {margin: 0.2em;color: black;border-radius: 0.25em;background-color: #f0f8ff;}input.sk-toggleable__control:checked~div.sk-toggleable__content {max-height: 200px;max-width: 100%;overflow: auto;}div.sk-estimator input.sk-toggleable__control:checked~label.sk-toggleable__label {background-color: #d4ebff;}div.sk-label input.sk-toggleable__control:checked~label.sk-toggleable__label {background-color: #d4ebff;}input.sk-hidden--visually {border: 0;clip: rect(1px 1px 1px 1px);clip: rect(1px, 1px, 1px, 1px);height: 1px;margin: -1px;overflow: hidden;padding: 0;position: absolute;width: 1px;}div.sk-estimator {font-family: monospace;background-color: #f0f8ff;margin: 0.25em 0.25em;border: 1px dotted black;border-radius: 0.25em;box-sizing: border-box;}div.sk-estimator:hover {background-color: #d4ebff;}div.sk-parallel-item::after {content: \"\";width: 100%;border-bottom: 1px solid gray;flex-grow: 1;}div.sk-label:hover label.sk-toggleable__label {background-color: #d4ebff;}div.sk-serial::before {content: \"\";position: absolute;border-left: 1px solid gray;box-sizing: border-box;top: 2em;bottom: 0;left: 50%;}div.sk-serial {display: flex;flex-direction: column;align-items: center;background-color: white;}div.sk-item {z-index: 1;}div.sk-parallel {display: flex;align-items: stretch;justify-content: center;background-color: white;}div.sk-parallel-item {display: flex;flex-direction: column;position: relative;background-color: white;}div.sk-parallel-item:first-child::after {align-self: flex-end;width: 50%;}div.sk-parallel-item:last-child::after {align-self: flex-start;width: 50%;}div.sk-parallel-item:only-child::after {width: 0;}div.sk-dashed-wrapped {border: 1px dashed gray;margin: 0.2em;box-sizing: border-box;padding-bottom: 0.1em;background-color: white;position: relative;}div.sk-label label {font-family: monospace;font-weight: bold;background-color: white;display: inline-block;line-height: 1.2em;}div.sk-label-container {position: relative;z-index: 2;text-align: center;}div.sk-container {display: inline-block;position: relative;}</style><div class=\"sk-top-container\"><div class=\"sk-container\"><div class=\"sk-item sk-dashed-wrapped\"><div class=\"sk-label-container\"><div class=\"sk-label sk-toggleable\"><input class=\"sk-toggleable__control sk-hidden--visually\" id=\"97067d39-df4e-4dd0-88c0-c9fbfc72581f\" type=\"checkbox\" ><label class=\"sk-toggleable__label\" for=\"97067d39-df4e-4dd0-88c0-c9fbfc72581f\">Pipeline</label><div class=\"sk-toggleable__content\"><pre>Pipeline(steps=[('tfidfvectorizer', TfidfVectorizer(stop_words='english')),\n",
       "                ('votingclassifier',\n",
       "                 VotingClassifier(estimators=[('nb', MultinomialNB()),\n",
       "                                              ('svc', SVC()),\n",
       "                                              ('lr', LogisticRegression())]))])</pre></div></div></div><div class=\"sk-serial\"><div class=\"sk-item\"><div class=\"sk-estimator sk-toggleable\"><input class=\"sk-toggleable__control sk-hidden--visually\" id=\"d0985783-1e07-4851-9375-770d25d4464b\" type=\"checkbox\" ><label class=\"sk-toggleable__label\" for=\"d0985783-1e07-4851-9375-770d25d4464b\">TfidfVectorizer</label><div class=\"sk-toggleable__content\"><pre>TfidfVectorizer(stop_words='english')</pre></div></div></div><div class=\"sk-item sk-dashed-wrapped\"><div class=\"sk-label-container\"><div class=\"sk-label sk-toggleable\"><input class=\"sk-toggleable__control sk-hidden--visually\" id=\"59ee248a-20f1-4a46-a3af-ad4689a6ed80\" type=\"checkbox\" ><label class=\"sk-toggleable__label\" for=\"59ee248a-20f1-4a46-a3af-ad4689a6ed80\">votingclassifier: VotingClassifier</label><div class=\"sk-toggleable__content\"><pre>VotingClassifier(estimators=[('nb', MultinomialNB()), ('svc', SVC()),\n",
       "                             ('lr', LogisticRegression())])</pre></div></div></div><div class=\"sk-parallel\"><div class=\"sk-parallel-item\"><div class=\"sk-item\"><div class=\"sk-label-container\"><div class=\"sk-label sk-toggleable\"><label>nb</label></div></div><div class=\"sk-serial\"><div class=\"sk-item\"><div class=\"sk-estimator sk-toggleable\"><input class=\"sk-toggleable__control sk-hidden--visually\" id=\"5da70420-1f6c-4cdf-9a8f-d2681a23ae51\" type=\"checkbox\" ><label class=\"sk-toggleable__label\" for=\"5da70420-1f6c-4cdf-9a8f-d2681a23ae51\">MultinomialNB</label><div class=\"sk-toggleable__content\"><pre>MultinomialNB()</pre></div></div></div></div></div></div><div class=\"sk-parallel-item\"><div class=\"sk-item\"><div class=\"sk-label-container\"><div class=\"sk-label sk-toggleable\"><label>svc</label></div></div><div class=\"sk-serial\"><div class=\"sk-item\"><div class=\"sk-estimator sk-toggleable\"><input class=\"sk-toggleable__control sk-hidden--visually\" id=\"9a751109-d66e-4b66-a46d-131eb9754c7a\" type=\"checkbox\" ><label class=\"sk-toggleable__label\" for=\"9a751109-d66e-4b66-a46d-131eb9754c7a\">SVC</label><div class=\"sk-toggleable__content\"><pre>SVC()</pre></div></div></div></div></div></div><div class=\"sk-parallel-item\"><div class=\"sk-item\"><div class=\"sk-label-container\"><div class=\"sk-label sk-toggleable\"><label>lr</label></div></div><div class=\"sk-serial\"><div class=\"sk-item\"><div class=\"sk-estimator sk-toggleable\"><input class=\"sk-toggleable__control sk-hidden--visually\" id=\"e9802292-fece-40ba-870f-178f9168f5fe\" type=\"checkbox\" ><label class=\"sk-toggleable__label\" for=\"e9802292-fece-40ba-870f-178f9168f5fe\">LogisticRegression</label><div class=\"sk-toggleable__content\"><pre>LogisticRegression()</pre></div></div></div></div></div></div></div></div></div></div></div></div>"
      ],
      "text/plain": [
       "Pipeline(steps=[('tfidfvectorizer', TfidfVectorizer(stop_words='english')),\n",
       "                ('votingclassifier',\n",
       "                 VotingClassifier(estimators=[('nb', MultinomialNB()),\n",
       "                                              ('svc', SVC()),\n",
       "                                              ('lr', LogisticRegression())]))])"
      ]
     },
     "execution_count": 72,
     "metadata": {},
     "output_type": "execute_result"
    }
   ],
   "source": [
    "vc_pipe.fit(X_train,y_train)"
   ]
  },
  {
   "cell_type": "code",
   "execution_count": 73,
   "metadata": {},
   "outputs": [
    {
     "data": {
      "text/plain": [
       "0.7946428571428571"
      ]
     },
     "execution_count": 73,
     "metadata": {},
     "output_type": "execute_result"
    }
   ],
   "source": [
    "vc_pipe.score(X_test,y_test)"
   ]
  },
  {
   "cell_type": "code",
   "execution_count": 74,
   "metadata": {},
   "outputs": [
    {
     "data": {
      "text/plain": [
       "<sklearn.metrics._plot.confusion_matrix.ConfusionMatrixDisplay at 0x1a68149fb08>"
      ]
     },
     "execution_count": 74,
     "metadata": {},
     "output_type": "execute_result"
    },
    {
     "data": {
      "image/png": "[encoded data removed]",
      "text/plain": [
       "<Figure size 432x288 with 2 Axes>"
      ]
     },
     "metadata": {
      "needs_background": "light"
     },
     "output_type": "display_data"
    }
   ],
   "source": [
    "plot_confusion_matrix(vc_pipe,X_test,y_test)"
   ]
  },
  {
   "cell_type": "code",
   "execution_count": null,
   "metadata": {},
   "outputs": [],
   "source": []
  },
  {
   "cell_type": "code",
   "execution_count": 63,
   "metadata": {},
   "outputs": [],
   "source": [
    "submissions = pd.DataFrame({'id':test['id'],'target':vc_pipe.predict(test['text'])})"
   ]
  },
  {
   "cell_type": "code",
   "execution_count": 64,
   "metadata": {},
   "outputs": [],
   "source": [
    "submissions.to_csv('subs',index=False)"
   ]
  },
  {
   "cell_type": "code",
   "execution_count": 65,
   "metadata": {},
   "outputs": [
    {
     "data": {
      "text/html": [
       "<div>\n",
       "<style scoped>\n",
       "    .dataframe tbody tr th:only-of-type {\n",
       "        vertical-align: middle;\n",
       "    }\n",
       "\n",
       "    .dataframe tbody tr th {\n",
       "        vertical-align: top;\n",
       "    }\n",
       "\n",
       "    .dataframe thead th {\n",
       "        text-align: right;\n",
       "    }\n",
       "</style>\n",
       "<table border=\"1\" class=\"dataframe\">\n",
       "  <thead>\n",
       "    <tr style=\"text-align: right;\">\n",
       "      <th></th>\n",
       "      <th>id</th>\n",
       "      <th>target</th>\n",
       "    </tr>\n",
       "  </thead>\n",
       "  <tbody>\n",
       "    <tr>\n",
       "      <th>0</th>\n",
       "      <td>0</td>\n",
       "      <td>Disaster</td>\n",
       "    </tr>\n",
       "    <tr>\n",
       "      <th>1</th>\n",
       "      <td>2</td>\n",
       "      <td>Disaster</td>\n",
       "    </tr>\n",
       "    <tr>\n",
       "      <th>2</th>\n",
       "      <td>3</td>\n",
       "      <td>Disaster</td>\n",
       "    </tr>\n",
       "    <tr>\n",
       "      <th>3</th>\n",
       "      <td>9</td>\n",
       "      <td>Not a Disaster</td>\n",
       "    </tr>\n",
       "    <tr>\n",
       "      <th>4</th>\n",
       "      <td>11</td>\n",
       "      <td>Disaster</td>\n",
       "    </tr>\n",
       "    <tr>\n",
       "      <th>...</th>\n",
       "      <td>...</td>\n",
       "      <td>...</td>\n",
       "    </tr>\n",
       "    <tr>\n",
       "      <th>3258</th>\n",
       "      <td>10861</td>\n",
       "      <td>Disaster</td>\n",
       "    </tr>\n",
       "    <tr>\n",
       "      <th>3259</th>\n",
       "      <td>10865</td>\n",
       "      <td>Disaster</td>\n",
       "    </tr>\n",
       "    <tr>\n",
       "      <th>3260</th>\n",
       "      <td>10868</td>\n",
       "      <td>Disaster</td>\n",
       "    </tr>\n",
       "    <tr>\n",
       "      <th>3261</th>\n",
       "      <td>10874</td>\n",
       "      <td>Disaster</td>\n",
       "    </tr>\n",
       "    <tr>\n",
       "      <th>3262</th>\n",
       "      <td>10875</td>\n",
       "      <td>Not a Disaster</td>\n",
       "    </tr>\n",
       "  </tbody>\n",
       "</table>\n",
       "<p>3263 rows × 2 columns</p>\n",
       "</div>"
      ],
      "text/plain": [
       "         id          target\n",
       "0         0        Disaster\n",
       "1         2        Disaster\n",
       "2         3        Disaster\n",
       "3         9  Not a Disaster\n",
       "4        11        Disaster\n",
       "...     ...             ...\n",
       "3258  10861        Disaster\n",
       "3259  10865        Disaster\n",
       "3260  10868        Disaster\n",
       "3261  10874        Disaster\n",
       "3262  10875  Not a Disaster\n",
       "\n",
       "[3263 rows x 2 columns]"
      ]
     },
     "execution_count": 65,
     "metadata": {},
     "output_type": "execute_result"
    }
   ],
   "source": [
    "submissions"
   ]
  },
  {
   "cell_type": "markdown",
   "metadata": {},
   "source": [
    "### Pickle"
   ]
  },
  {
   "cell_type": "code",
   "execution_count": 66,
   "metadata": {},
   "outputs": [],
   "source": [
    "# now you can save it to a file\n",
    "with open('tweet_class.pkl', 'wb') as f:\n",
    "    pickle.dump(vc_pipe, f)"
   ]
  },
  {
   "cell_type": "code",
   "execution_count": null,
   "metadata": {},
   "outputs": [],
   "source": []
  },
  {
   "cell_type": "markdown",
   "metadata": {},
   "source": [
    "### Test Cases for Demonstration"
   ]
  },
  {
   "cell_type": "code",
   "execution_count": 67,
   "metadata": {},
   "outputs": [
    {
     "data": {
      "text/plain": [
       "'there is a forest fire at spot pond, geese are fleeing across the street, I cannot save them all'"
      ]
     },
     "execution_count": 67,
     "metadata": {},
     "output_type": "execute_result"
    }
   ],
   "source": [
    "test['text'][2]"
   ]
  },
  {
   "cell_type": "code",
   "execution_count": 75,
   "metadata": {},
   "outputs": [
    {
     "data": {
      "text/plain": [
       "'What a nice hat?'"
      ]
     },
     "execution_count": 75,
     "metadata": {},
     "output_type": "execute_result"
    }
   ],
   "source": [
    "test['text'][8]"
   ]
  },
  {
   "cell_type": "code",
   "execution_count": 77,
   "metadata": {},
   "outputs": [
    {
     "data": {
      "text/plain": [
       "\"Just got to love burning your self on a damn curling wand... I swear someone needs to take it away from me cuase I'm just accident prone.\""
      ]
     },
     "execution_count": 77,
     "metadata": {},
     "output_type": "execute_result"
    }
   ],
   "source": [
    "test['text'][30]"
   ]
  },
  {
   "cell_type": "code",
   "execution_count": null,
   "metadata": {},
   "outputs": [],
   "source": []
  },
  {
   "cell_type": "code",
   "execution_count": null,
   "metadata": {},
   "outputs": [],
   "source": [
    "import nltk\n",
    "from nltk.stem import WordNetLemmatizer\n",
    "from nltk.tokenize import sent_tokenize, word_tokenize\n",
    "from nltk.stem.porter import PorterStemmer"
   ]
  },
  {
   "cell_type": "code",
   "execution_count": null,
   "metadata": {},
   "outputs": [],
   "source": [
    "lemmatizer=WordNetLemmatizer()"
   ]
  },
  {
   "cell_type": "code",
   "execution_count": null,
   "metadata": {},
   "outputs": [],
   "source": [
    "train['text'].apply(lambda x: sent_tokenize(x.lower()))"
   ]
  },
  {
   "cell_type": "code",
   "execution_count": null,
   "metadata": {},
   "outputs": [],
   "source": [
    "tokens = train['text'].apply(lambda x: word_tokenize(x))"
   ]
  },
  {
   "cell_type": "code",
   "execution_count": null,
   "metadata": {},
   "outputs": [],
   "source": [
    "train['lemmas'] = train['text'].apply(lambda x: lemmatizer.lemmatize(x))"
   ]
  },
  {
   "cell_type": "code",
   "execution_count": null,
   "metadata": {},
   "outputs": [],
   "source": [
    "pstemmer = PorterStemmer()"
   ]
  },
  {
   "cell_type": "code",
   "execution_count": null,
   "metadata": {},
   "outputs": [],
   "source": [
    "[pstemmer.stem(x) for x in tokens]"
   ]
  },
  {
   "cell_type": "code",
   "execution_count": null,
   "metadata": {},
   "outputs": [],
   "source": [
    "train['text'].apply(lambda x: pstemmer.stem(x))"
   ]
  },
  {
   "cell_type": "code",
   "execution_count": null,
   "metadata": {},
   "outputs": [],
   "source": []
  },
  {
   "cell_type": "code",
   "execution_count": 106,
   "metadata": {},
   "outputs": [
    {
     "data": {
      "text/plain": [
       "\"We're shaking...It's an earthquake\""
      ]
     },
     "execution_count": 106,
     "metadata": {},
     "output_type": "execute_result"
    }
   ],
   "source": [
    "test['text'][5]"
   ]
  },
  {
   "cell_type": "code",
   "execution_count": null,
   "metadata": {},
   "outputs": [],
   "source": []
  },
  {
   "cell_type": "code",
   "execution_count": null,
   "metadata": {},
   "outputs": [],
   "source": []
  },
  {
   "cell_type": "code",
   "execution_count": null,
   "metadata": {},
   "outputs": [],
   "source": []
  },
  {
   "cell_type": "code",
   "execution_count": null,
   "metadata": {},
   "outputs": [],
   "source": []
  },
  {
   "cell_type": "code",
   "execution_count": null,
   "metadata": {},
   "outputs": [],
   "source": []
  },
  {
   "cell_type": "code",
   "execution_count": null,
   "metadata": {},
   "outputs": [],
   "source": []
  },
  {
   "cell_type": "code",
   "execution_count": null,
   "metadata": {},
   "outputs": [],
   "source": []
  },
  {
   "cell_type": "code",
   "execution_count": null,
   "metadata": {},
   "outputs": [],
   "source": []
  },
  {
   "cell_type": "code",
   "execution_count": null,
   "metadata": {},
   "outputs": [],
   "source": [
    "from keras.preprocessing.text import Tokenizer\n",
    "from keras.models import Sequential\n",
    "from keras.layers import Embedding, Flatten, Dense"
   ]
  },
  {
   "cell_type": "code",
   "execution_count": null,
   "metadata": {},
   "outputs": [],
   "source": [
    "tokenizer = Tokenizer(num_words = 10_000)\n",
    "tokenizer.fit_on_texts(X)\n",
    "X = tokenizer.texts_to_matrix(X)"
   ]
  },
  {
   "cell_type": "code",
   "execution_count": null,
   "metadata": {},
   "outputs": [],
   "source": [
    "tokenizer.word_counts"
   ]
  },
  {
   "cell_type": "code",
   "execution_count": null,
   "metadata": {},
   "outputs": [],
   "source": [
    "X_train,X_test,y_train,y_test = train_test_split(X,y,stratify=y,random_state=42)"
   ]
  },
  {
   "cell_type": "code",
   "execution_count": null,
   "metadata": {},
   "outputs": [],
   "source": [
    "model = Sequential()\n",
    "model.add(Input)\n",
    "model.add(Flatten())\n",
    "model.add(Dense(256, activation='relu'))\n",
    "model.add(Dense(1, activation = 'sigmoid'))"
   ]
  },
  {
   "cell_type": "code",
   "execution_count": null,
   "metadata": {},
   "outputs": [],
   "source": [
    "model.summary()"
   ]
  },
  {
   "cell_type": "code",
   "execution_count": null,
   "metadata": {},
   "outputs": [],
   "source": [
    "model.compile(optimizer='adam',loss='binary_crossentropy',metrics=['acc'])"
   ]
  },
  {
   "cell_type": "code",
   "execution_count": null,
   "metadata": {},
   "outputs": [],
   "source": [
    "history = model.fit(X_train,y_train,validation_data=(X_test,y_test),epochs=30,batch_size=64)"
   ]
  },
  {
   "cell_type": "code",
   "execution_count": null,
   "metadata": {},
   "outputs": [],
   "source": []
  }
 ],
 "metadata": {
  "kernelspec": {
   "display_name": "Python 3",
   "language": "python",
   "name": "python3"
  },
  "language_info": {
   "codemirror_mode": {
    "name": "ipython",
    "version": 3
   },
   "file_extension": ".py",
   "mimetype": "text/x-python",
   "name": "python",
   "nbconvert_exporter": "python",
   "pygments_lexer": "ipython3",
   "version": "3.7.9"
  }
 },
 "nbformat": 4,
 "nbformat_minor": 4
}
